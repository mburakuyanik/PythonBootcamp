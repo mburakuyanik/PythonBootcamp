{
 "cells": [
  {
   "cell_type": "code",
   "execution_count": null,
   "id": "45d62f2c-1925-4849-9ee9-627f96f9c91b",
   "metadata": {},
   "outputs": [],
   "source": [
    "#Type annotation you dont have to do but it will increase readibility"
   ]
  },
  {
   "cell_type": "code",
   "execution_count": 35,
   "id": "cdd9e879-9a80-463c-bb71-757fd2d069c2",
   "metadata": {},
   "outputs": [],
   "source": [
    "name : str = \"Burak\"\n",
    "age : int = 30\n",
    "is_student : bool = False"
   ]
  },
  {
   "cell_type": "code",
   "execution_count": 25,
   "id": "8858cf11-3143-40d8-9ea6-b0d27d4b20ac",
   "metadata": {},
   "outputs": [],
   "source": [
    "def addNumbersWithTypeAnno(a:int , b:int) -> int:\n",
    "    return a+b"
   ]
  },
  {
   "cell_type": "code",
   "execution_count": 27,
   "id": "f9293107-1aef-401f-a62b-befffe87c91e",
   "metadata": {},
   "outputs": [
    {
     "data": {
      "text/plain": [
       "12"
      ]
     },
     "execution_count": 27,
     "metadata": {},
     "output_type": "execute_result"
    }
   ],
   "source": [
    "addNumbersWithTypeAnno(5,7)"
   ]
  },
  {
   "cell_type": "code",
   "execution_count": 29,
   "id": "fa39dd18-f99e-47ee-8ccd-1067087c684e",
   "metadata": {},
   "outputs": [],
   "source": [
    "def addNumbers(a,b):\n",
    "    return a+b"
   ]
  },
  {
   "cell_type": "code",
   "execution_count": 31,
   "id": "e48f56d2-2044-4ea9-bef3-c91a63a9180b",
   "metadata": {},
   "outputs": [
    {
     "data": {
      "text/plain": [
       "12"
      ]
     },
     "execution_count": 31,
     "metadata": {},
     "output_type": "execute_result"
    }
   ],
   "source": [
    "addNumbers(5,7)"
   ]
  },
  {
   "cell_type": "code",
   "execution_count": 33,
   "id": "257afb4b-da98-4ff2-96b3-e4b3a8a84a04",
   "metadata": {},
   "outputs": [],
   "source": [
    "# at the end the conclusion is same "
   ]
  },
  {
   "cell_type": "code",
   "execution_count": 37,
   "id": "4b40ed6f-f466-43b6-ab0c-5da1a434c21f",
   "metadata": {},
   "outputs": [],
   "source": [
    "def process_value(value : int | str) ->str:\n",
    "    if isinstance(value, int):\n",
    "        return f\" process value int is {value}\"\n",
    "    else:\n",
    "        return f\" process value string is {value}\""
   ]
  },
  {
   "cell_type": "code",
   "execution_count": 39,
   "id": "e37b09b3-d58b-4062-b41a-2574df5b8f15",
   "metadata": {},
   "outputs": [
    {
     "data": {
      "text/plain": [
       "' process value int is 5'"
      ]
     },
     "execution_count": 39,
     "metadata": {},
     "output_type": "execute_result"
    }
   ],
   "source": [
    "process_value(5)"
   ]
  },
  {
   "cell_type": "code",
   "execution_count": 43,
   "id": "98b1aa21-7f5c-4657-960c-3ca643c0521b",
   "metadata": {},
   "outputs": [
    {
     "data": {
      "text/plain": [
       "' process value string is [10, 5]'"
      ]
     },
     "execution_count": 43,
     "metadata": {},
     "output_type": "execute_result"
    }
   ],
   "source": [
    "process_value([10,5])"
   ]
  },
  {
   "cell_type": "code",
   "execution_count": 47,
   "id": "efa90418-277f-436c-b3f6-bf3883f089b1",
   "metadata": {},
   "outputs": [],
   "source": [
    "from typing import List\n",
    "\n",
    "def sum_list(numbers : list)-> int:\n",
    "    return sum(numbers)"
   ]
  },
  {
   "cell_type": "code",
   "execution_count": 53,
   "id": "ce09c61e-beb4-4f45-ae0b-3a3bc274b927",
   "metadata": {},
   "outputs": [
    {
     "data": {
      "text/plain": [
       "60"
      ]
     },
     "execution_count": 53,
     "metadata": {},
     "output_type": "execute_result"
    }
   ],
   "source": [
    "xyzList = [10,20,30]\n",
    "total = sum_list(xyzList) \n",
    "total"
   ]
  },
  {
   "cell_type": "code",
   "execution_count": null,
   "id": "0125291c-136c-472e-9f7b-280d9f9ffed5",
   "metadata": {},
   "outputs": [],
   "source": []
  }
 ],
 "metadata": {
  "kernelspec": {
   "display_name": "Python 3 (ipykernel)",
   "language": "python",
   "name": "python3"
  },
  "language_info": {
   "codemirror_mode": {
    "name": "ipython",
    "version": 3
   },
   "file_extension": ".py",
   "mimetype": "text/x-python",
   "name": "python",
   "nbconvert_exporter": "python",
   "pygments_lexer": "ipython3",
   "version": "3.10.14"
  }
 },
 "nbformat": 4,
 "nbformat_minor": 5
}
