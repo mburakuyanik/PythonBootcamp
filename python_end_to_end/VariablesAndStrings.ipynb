{
 "cells": [
  {
   "cell_type": "code",
   "execution_count": 2,
   "id": "fd46f1b8",
   "metadata": {},
   "outputs": [
    {
     "data": {
      "text/plain": [
       "128.57142857142858"
      ]
     },
     "execution_count": 2,
     "metadata": {},
     "output_type": "execute_result"
    }
   ],
   "source": [
    "900/7"
   ]
  },
  {
   "cell_type": "code",
   "execution_count": 3,
   "id": "4960ff7b",
   "metadata": {},
   "outputs": [],
   "source": [
    "age = 100"
   ]
  },
  {
   "cell_type": "code",
   "execution_count": 4,
   "id": "34e565dc",
   "metadata": {},
   "outputs": [
    {
     "data": {
      "text/plain": [
       "100"
      ]
     },
     "execution_count": 4,
     "metadata": {},
     "output_type": "execute_result"
    }
   ],
   "source": [
    "age"
   ]
  },
  {
   "cell_type": "code",
   "execution_count": 5,
   "id": "244163af",
   "metadata": {},
   "outputs": [
    {
     "data": {
      "text/plain": [
       "25.0"
      ]
     },
     "execution_count": 5,
     "metadata": {},
     "output_type": "execute_result"
    }
   ],
   "source": [
    "age/4"
   ]
  },
  {
   "cell_type": "code",
   "execution_count": 6,
   "id": "8d38d8b6",
   "metadata": {},
   "outputs": [
    {
     "data": {
      "text/plain": [
       "int"
      ]
     },
     "execution_count": 6,
     "metadata": {},
     "output_type": "execute_result"
    }
   ],
   "source": [
    "type(age)"
   ]
  },
  {
   "cell_type": "code",
   "execution_count": 7,
   "id": "72103a5c",
   "metadata": {},
   "outputs": [
    {
     "data": {
      "text/plain": [
       "float"
      ]
     },
     "execution_count": 7,
     "metadata": {},
     "output_type": "execute_result"
    }
   ],
   "source": [
    "type(age/4)"
   ]
  },
  {
   "cell_type": "code",
   "execution_count": 8,
   "id": "95d9d606",
   "metadata": {},
   "outputs": [],
   "source": [
    "name = \"String\""
   ]
  },
  {
   "cell_type": "code",
   "execution_count": 16,
   "id": "002cd0e5",
   "metadata": {},
   "outputs": [
    {
     "name": "stdout",
     "output_type": "stream",
     "text": [
      "Help on built-in function format_map:\n",
      "\n",
      "format_map(...) method of builtins.str instance\n",
      "    S.format_map(mapping) -> str\n",
      "    \n",
      "    Return a formatted version of S, using substitutions from mapping.\n",
      "    The substitutions are identified by braces ('{' and '}').\n",
      "\n"
     ]
    }
   ],
   "source": [
    "help(name.format_map)"
   ]
  },
  {
   "cell_type": "code",
   "execution_count": 1,
   "id": "e45a2274",
   "metadata": {},
   "outputs": [],
   "source": [
    "myString = \"Burak Uyanık\""
   ]
  },
  {
   "cell_type": "code",
   "execution_count": 2,
   "id": "4bb619aa",
   "metadata": {},
   "outputs": [
    {
     "data": {
      "text/plain": [
       "12"
      ]
     },
     "execution_count": 2,
     "metadata": {},
     "output_type": "execute_result"
    }
   ],
   "source": [
    "len(myString) # length of string"
   ]
  },
  {
   "cell_type": "code",
   "execution_count": 3,
   "id": "d4eb7946",
   "metadata": {},
   "outputs": [
    {
     "data": {
      "text/plain": [
       "'u'"
      ]
     },
     "execution_count": 3,
     "metadata": {},
     "output_type": "execute_result"
    }
   ],
   "source": [
    "myString[1] #index"
   ]
  },
  {
   "cell_type": "code",
   "execution_count": 4,
   "id": "98c33f8a",
   "metadata": {},
   "outputs": [
    {
     "data": {
      "text/plain": [
       "'k'"
      ]
     },
     "execution_count": 4,
     "metadata": {},
     "output_type": "execute_result"
    }
   ],
   "source": [
    "myString[11]"
   ]
  },
  {
   "cell_type": "code",
   "execution_count": 6,
   "id": "6800da6b",
   "metadata": {},
   "outputs": [
    {
     "data": {
      "text/plain": [
       "'k'"
      ]
     },
     "execution_count": 6,
     "metadata": {},
     "output_type": "execute_result"
    }
   ],
   "source": [
    "myString[len(myString)-1]"
   ]
  },
  {
   "cell_type": "code",
   "execution_count": 7,
   "id": "85113d42",
   "metadata": {},
   "outputs": [
    {
     "data": {
      "text/plain": [
       "'k'"
      ]
     },
     "execution_count": 7,
     "metadata": {},
     "output_type": "execute_result"
    }
   ],
   "source": [
    "myString[-1]"
   ]
  },
  {
   "cell_type": "code",
   "execution_count": 10,
   "id": "d3d799ff",
   "metadata": {},
   "outputs": [
    {
     "data": {
      "text/plain": [
       "'kB'"
      ]
     },
     "execution_count": 10,
     "metadata": {},
     "output_type": "execute_result"
    }
   ],
   "source": [
    "myString[-1] + myString[0]"
   ]
  },
  {
   "cell_type": "code",
   "execution_count": 12,
   "id": "f9356313",
   "metadata": {},
   "outputs": [],
   "source": [
    "barcode = \"ABCD123982149\""
   ]
  },
  {
   "cell_type": "code",
   "execution_count": 19,
   "id": "14828a99",
   "metadata": {},
   "outputs": [
    {
     "data": {
      "text/plain": [
       "'BCD1'"
      ]
     },
     "execution_count": 19,
     "metadata": {},
     "output_type": "execute_result"
    }
   ],
   "source": [
    "barcode[1:5:1] #slicing --- barcode[starting index: stopping index: stepping size]"
   ]
  },
  {
   "cell_type": "code",
   "execution_count": 20,
   "id": "33b8ba01",
   "metadata": {},
   "outputs": [
    {
     "data": {
      "text/plain": [
       "'D1'"
      ]
     },
     "execution_count": 20,
     "metadata": {},
     "output_type": "execute_result"
    }
   ],
   "source": [
    "barcode[3:5]"
   ]
  },
  {
   "cell_type": "code",
   "execution_count": 21,
   "id": "7f5840d2",
   "metadata": {},
   "outputs": [
    {
     "data": {
      "text/plain": [
       "'AD329'"
      ]
     },
     "execution_count": 21,
     "metadata": {},
     "output_type": "execute_result"
    }
   ],
   "source": [
    "barcode[::3]"
   ]
  },
  {
   "cell_type": "code",
   "execution_count": 22,
   "id": "bc8494a8",
   "metadata": {},
   "outputs": [
    {
     "data": {
      "text/plain": [
       "'ABC'"
      ]
     },
     "execution_count": 22,
     "metadata": {},
     "output_type": "execute_result"
    }
   ],
   "source": [
    "barcode[:3:]"
   ]
  },
  {
   "cell_type": "code",
   "execution_count": 25,
   "id": "d937231e",
   "metadata": {},
   "outputs": [
    {
     "data": {
      "text/plain": [
       "1"
      ]
     },
     "execution_count": 25,
     "metadata": {},
     "output_type": "execute_result"
    }
   ],
   "source": [
    "barcode.index(\"B\")"
   ]
  },
  {
   "cell_type": "code",
   "execution_count": 26,
   "id": "e018687b",
   "metadata": {},
   "outputs": [
    {
     "data": {
      "text/plain": [
       "['ABCD123982149']"
      ]
     },
     "execution_count": 26,
     "metadata": {},
     "output_type": "execute_result"
    }
   ],
   "source": [
    "barcode.split()"
   ]
  },
  {
   "cell_type": "code",
   "execution_count": 27,
   "id": "b86a7fa5",
   "metadata": {},
   "outputs": [
    {
     "data": {
      "text/plain": [
       "list"
      ]
     },
     "execution_count": 27,
     "metadata": {},
     "output_type": "execute_result"
    }
   ],
   "source": [
    "type(barcode.split())"
   ]
  },
  {
   "cell_type": "code",
   "execution_count": 28,
   "id": "dc342e73",
   "metadata": {},
   "outputs": [
    {
     "data": {
      "text/plain": [
       "'A'"
      ]
     },
     "execution_count": 28,
     "metadata": {},
     "output_type": "execute_result"
    }
   ],
   "source": [
    "barcode[0]"
   ]
  },
  {
   "cell_type": "code",
   "execution_count": 29,
   "id": "d07944cf",
   "metadata": {},
   "outputs": [
    {
     "ename": "TypeError",
     "evalue": "'str' object does not support item assignment",
     "output_type": "error",
     "traceback": [
      "\u001b[1;31m---------------------------------------------------------------------------\u001b[0m",
      "\u001b[1;31mTypeError\u001b[0m                                 Traceback (most recent call last)",
      "Cell \u001b[1;32mIn[29], line 1\u001b[0m\n\u001b[1;32m----> 1\u001b[0m barcode[\u001b[38;5;241m0\u001b[39m] \u001b[38;5;241m=\u001b[39m \u001b[38;5;124m\"\u001b[39m\u001b[38;5;124ma\u001b[39m\u001b[38;5;124m\"\u001b[39m\n",
      "\u001b[1;31mTypeError\u001b[0m: 'str' object does not support item assignment"
     ]
    }
   ],
   "source": [
    "barcode[0] = \"a\""
   ]
  },
  {
   "cell_type": "code",
   "execution_count": 1,
   "id": "e824f6ff",
   "metadata": {},
   "outputs": [],
   "source": [
    "#immutable - immutability"
   ]
  },
  {
   "cell_type": "code",
   "execution_count": 5,
   "id": "90ad8ab8",
   "metadata": {},
   "outputs": [
    {
     "name": "stdout",
     "output_type": "stream",
     "text": [
      "enter name:Burak Uyanık\n"
     ]
    }
   ],
   "source": [
    "name = input(\"enter name:\")"
   ]
  },
  {
   "cell_type": "code",
   "execution_count": 6,
   "id": "62715359",
   "metadata": {},
   "outputs": [
    {
     "name": "stdout",
     "output_type": "stream",
     "text": [
      "Welcome Burak Uyanık\n"
     ]
    }
   ],
   "source": [
    "print(f\"Welcome {name}\")"
   ]
  },
  {
   "cell_type": "code",
   "execution_count": null,
   "id": "dc91f4f9",
   "metadata": {},
   "outputs": [],
   "source": []
  }
 ],
 "metadata": {
  "kernelspec": {
   "display_name": "Python 3 (ipykernel)",
   "language": "python",
   "name": "python3"
  },
  "language_info": {
   "codemirror_mode": {
    "name": "ipython",
    "version": 3
   },
   "file_extension": ".py",
   "mimetype": "text/x-python",
   "name": "python",
   "nbconvert_exporter": "python",
   "pygments_lexer": "ipython3",
   "version": "3.10.9"
  }
 },
 "nbformat": 4,
 "nbformat_minor": 5
}
