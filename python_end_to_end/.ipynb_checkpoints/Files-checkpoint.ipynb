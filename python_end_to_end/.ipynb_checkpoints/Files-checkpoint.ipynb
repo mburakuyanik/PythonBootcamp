{
 "cells": [
  {
   "cell_type": "code",
   "execution_count": 4,
   "id": "74b1ce0a-1b7d-4eee-95e0-a5c853d1cb4d",
   "metadata": {},
   "outputs": [
    {
     "name": "stdout",
     "output_type": "stream",
     "text": [
      "Writing myFile.txt\n"
     ]
    }
   ],
   "source": [
    "%%writefile myFile.txt\n",
    "burak"
   ]
  },
  {
   "cell_type": "code",
   "execution_count": 8,
   "id": "47536c21-ebec-4f9a-a9ce-3bd960457112",
   "metadata": {},
   "outputs": [],
   "source": [
    "myFile = open(\"myFile.txt\")"
   ]
  },
  {
   "cell_type": "code",
   "execution_count": 12,
   "id": "95c9fd3f-82a0-4933-a640-5df51a73a6cd",
   "metadata": {},
   "outputs": [
    {
     "data": {
      "text/plain": [
       "'burak\\n'"
      ]
     },
     "execution_count": 12,
     "metadata": {},
     "output_type": "execute_result"
    }
   ],
   "source": [
    "myFile.read()"
   ]
  },
  {
   "cell_type": "code",
   "execution_count": 20,
   "id": "5a844b05-7b3d-43d6-b125-f3aff1e95eda",
   "metadata": {},
   "outputs": [
    {
     "ename": "UnsupportedOperation",
     "evalue": "not writable",
     "output_type": "error",
     "traceback": [
      "\u001b[1;31m---------------------------------------------------------------------------\u001b[0m",
      "\u001b[1;31mUnsupportedOperation\u001b[0m                      Traceback (most recent call last)",
      "Cell \u001b[1;32mIn[20], line 1\u001b[0m\n\u001b[1;32m----> 1\u001b[0m \u001b[43mmyFile\u001b[49m\u001b[38;5;241;43m.\u001b[39;49m\u001b[43mwrite\u001b[49m\u001b[43m(\u001b[49m\u001b[38;5;124;43m\"\u001b[39;49m\u001b[38;5;124;43ma\u001b[39;49m\u001b[38;5;124;43m\"\u001b[39;49m\u001b[43m)\u001b[49m\n",
      "\u001b[1;31mUnsupportedOperation\u001b[0m: not writable"
     ]
    }
   ],
   "source": [
    "myFile.write(\"a\")"
   ]
  },
  {
   "cell_type": "code",
   "execution_count": 22,
   "id": "df6d5305-b180-4f4e-b392-8959b7b5de11",
   "metadata": {},
   "outputs": [
    {
     "data": {
      "text/plain": [
       "''"
      ]
     },
     "execution_count": 22,
     "metadata": {},
     "output_type": "execute_result"
    }
   ],
   "source": [
    "myFile.read()"
   ]
  },
  {
   "cell_type": "code",
   "execution_count": 24,
   "id": "499459b1-ddc1-49e2-8540-513d7b655b7e",
   "metadata": {},
   "outputs": [
    {
     "data": {
      "text/plain": [
       "0"
      ]
     },
     "execution_count": 24,
     "metadata": {},
     "output_type": "execute_result"
    }
   ],
   "source": [
    "myFile.seek(0)"
   ]
  },
  {
   "cell_type": "code",
   "execution_count": 26,
   "id": "4f3619eb-7a91-43e4-988f-5edc598099a2",
   "metadata": {},
   "outputs": [
    {
     "data": {
      "text/plain": [
       "'burak\\n'"
      ]
     },
     "execution_count": 26,
     "metadata": {},
     "output_type": "execute_result"
    }
   ],
   "source": [
    "myFile.read()"
   ]
  },
  {
   "cell_type": "code",
   "execution_count": 28,
   "id": "2b16123f-2e89-4e3a-9858-1b7a8d3e571d",
   "metadata": {},
   "outputs": [],
   "source": [
    "myFile.close()"
   ]
  },
  {
   "cell_type": "code",
   "execution_count": 38,
   "id": "e1ab152a-487b-478c-a967-5c1c688b54f0",
   "metadata": {},
   "outputs": [
    {
     "ename": "UnsupportedOperation",
     "evalue": "not readable",
     "output_type": "error",
     "traceback": [
      "\u001b[1;31m---------------------------------------------------------------------------\u001b[0m",
      "\u001b[1;31mUnsupportedOperation\u001b[0m                      Traceback (most recent call last)",
      "Cell \u001b[1;32mIn[38], line 2\u001b[0m\n\u001b[0;32m      1\u001b[0m \u001b[38;5;28;01mwith\u001b[39;00m \u001b[38;5;28mopen\u001b[39m(\u001b[38;5;124m\"\u001b[39m\u001b[38;5;124mmyFile.txt\u001b[39m\u001b[38;5;124m\"\u001b[39m, mode\u001b[38;5;241m=\u001b[39m\u001b[38;5;124m\"\u001b[39m\u001b[38;5;124mw\u001b[39m\u001b[38;5;124m\"\u001b[39m ) \u001b[38;5;28;01mas\u001b[39;00m textFile:\n\u001b[1;32m----> 2\u001b[0m     myContent \u001b[38;5;241m=\u001b[39m \u001b[43mtextFile\u001b[49m\u001b[38;5;241;43m.\u001b[39;49m\u001b[43mread\u001b[49m\u001b[43m(\u001b[49m\u001b[43m)\u001b[49m\n",
      "\u001b[1;31mUnsupportedOperation\u001b[0m: not readable"
     ]
    }
   ],
   "source": [
    "with open(\"myFile.txt\", mode=\"w\" ) as textFile:\n",
    "    myContent = textFile.read()"
   ]
  },
  {
   "cell_type": "code",
   "execution_count": 36,
   "id": "71be2ac3-e1ac-4d98-beb3-044138bc400e",
   "metadata": {},
   "outputs": [
    {
     "data": {
      "text/plain": [
       "'burak\\n'"
      ]
     },
     "execution_count": 36,
     "metadata": {},
     "output_type": "execute_result"
    }
   ],
   "source": [
    "myContent"
   ]
  },
  {
   "cell_type": "code",
   "execution_count": 42,
   "id": "683832cb-0dfb-4544-a8dd-024ae0337a7d",
   "metadata": {},
   "outputs": [],
   "source": [
    "with open(\"myFile.txt\", mode=\"w\" ) as textFile:\n",
    "    myContent = textFile.write(\"a\")"
   ]
  },
  {
   "cell_type": "code",
   "execution_count": 52,
   "id": "33606640-39c0-4d7e-9ffd-5fd987385a04",
   "metadata": {},
   "outputs": [],
   "source": [
    "with open(\"myFile.txt\", mode=\"r\" ) as textFile:\n",
    "    myContent = textFile.read()"
   ]
  },
  {
   "cell_type": "code",
   "execution_count": 54,
   "id": "b2f9ac0f-f488-476c-b1b5-258dd4937daf",
   "metadata": {},
   "outputs": [
    {
     "data": {
      "text/plain": [
       "'a'"
      ]
     },
     "execution_count": 54,
     "metadata": {},
     "output_type": "execute_result"
    }
   ],
   "source": [
    "myContent"
   ]
  },
  {
   "cell_type": "code",
   "execution_count": null,
   "id": "57120bc5-556c-458c-88b4-ac382227a488",
   "metadata": {},
   "outputs": [],
   "source": [
    "with open(\"myFile.txt\", mode=\"r\" ) as text2:\n",
    "    myContent = text2.read()"
   ]
  },
  {
   "cell_type": "markdown",
   "id": "eb92c608-b594-45f0-987b-8bc9db44f9be",
   "metadata": {},
   "source": [
    "# mode : a -> append r -> read w -> write"
   ]
  },
  {
   "cell_type": "code",
   "execution_count": null,
   "id": "eb99e841-d0d4-4e48-925a-bf8dcedcecf8",
   "metadata": {},
   "outputs": [],
   "source": [
    " "
   ]
  }
 ],
 "metadata": {
  "kernelspec": {
   "display_name": "Python 3 (ipykernel)",
   "language": "python",
   "name": "python3"
  },
  "language_info": {
   "codemirror_mode": {
    "name": "ipython",
    "version": 3
   },
   "file_extension": ".py",
   "mimetype": "text/x-python",
   "name": "python",
   "nbconvert_exporter": "python",
   "pygments_lexer": "ipython3",
   "version": "3.10.14"
  }
 },
 "nbformat": 4,
 "nbformat_minor": 5
}
