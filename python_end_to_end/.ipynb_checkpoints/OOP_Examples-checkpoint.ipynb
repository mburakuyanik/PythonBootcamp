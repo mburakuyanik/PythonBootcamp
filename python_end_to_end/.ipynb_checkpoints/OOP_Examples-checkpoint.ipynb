{
 "cells": [
  {
   "cell_type": "markdown",
   "id": "e842c3d5",
   "metadata": {},
   "source": [
    "# inheritance (Kalıtım)"
   ]
  },
  {
   "cell_type": "code",
   "execution_count": 2,
   "id": "a996bb95",
   "metadata": {},
   "outputs": [],
   "source": [
    "class Musician():\n",
    "    \n",
    "    def __init__(self,name):\n",
    "        self.name = name\n",
    "        print(\"Musician initialized\")\n",
    "        \n",
    "    def test1(self):\n",
    "        print(\"test1\")\n",
    "    \n",
    "    def test2(self):\n",
    "        print(\"test2\")"
   ]
  },
  {
   "cell_type": "code",
   "execution_count": 3,
   "id": "dae380d7",
   "metadata": {},
   "outputs": [
    {
     "name": "stdout",
     "output_type": "stream",
     "text": [
      "Musician initialized\n"
     ]
    }
   ],
   "source": [
    "burak = Musician(\"burak\")"
   ]
  },
  {
   "cell_type": "code",
   "execution_count": 4,
   "id": "618266e3",
   "metadata": {},
   "outputs": [
    {
     "data": {
      "text/plain": [
       "'burak'"
      ]
     },
     "execution_count": 4,
     "metadata": {},
     "output_type": "execute_result"
    }
   ],
   "source": [
    "burak.name # if you call attribute(variable) you dont need to add () "
   ]
  },
  {
   "cell_type": "code",
   "execution_count": 5,
   "id": "1985bb4c",
   "metadata": {},
   "outputs": [
    {
     "data": {
      "text/plain": [
       "<bound method Musician.test1 of <__main__.Musician object at 0x000002DC4F466110>>"
      ]
     },
     "execution_count": 5,
     "metadata": {},
     "output_type": "execute_result"
    }
   ],
   "source": [
    "burak.test1 "
   ]
  },
  {
   "cell_type": "code",
   "execution_count": 6,
   "id": "afcbc2fe",
   "metadata": {},
   "outputs": [
    {
     "name": "stdout",
     "output_type": "stream",
     "text": [
      "test2\n"
     ]
    }
   ],
   "source": [
    "burak.test2() # if you call func. you need to add () "
   ]
  },
  {
   "cell_type": "code",
   "execution_count": 7,
   "id": "9bd7c666",
   "metadata": {},
   "outputs": [],
   "source": [
    "class MusicianPlus(Musician):\n",
    "    def __init__(self,name):\n",
    "            Musician.__init__(self, name)\n",
    "            print(\"musician plus\")\n",
    "    def test3(self):\n",
    "        print(\"test3\")\n",
    "        \n",
    "    def test1(self):\n",
    "        print(\"test1 overrided\")\n",
    "            "
   ]
  },
  {
   "cell_type": "code",
   "execution_count": 8,
   "id": "a1583a83",
   "metadata": {},
   "outputs": [
    {
     "name": "stdout",
     "output_type": "stream",
     "text": [
      "Musician initialized\n",
      "musician plus\n"
     ]
    }
   ],
   "source": [
    "burakPlus = MusicianPlus(\"burakPlus\")"
   ]
  },
  {
   "cell_type": "code",
   "execution_count": 9,
   "id": "eebc195e",
   "metadata": {},
   "outputs": [
    {
     "data": {
      "text/plain": [
       "__main__.MusicianPlus"
      ]
     },
     "execution_count": 9,
     "metadata": {},
     "output_type": "execute_result"
    }
   ],
   "source": [
    "type(burakPlus)"
   ]
  },
  {
   "cell_type": "code",
   "execution_count": 10,
   "id": "d211c185",
   "metadata": {},
   "outputs": [
    {
     "data": {
      "text/plain": [
       "'burakPlus'"
      ]
     },
     "execution_count": 10,
     "metadata": {},
     "output_type": "execute_result"
    }
   ],
   "source": [
    "burakPlus.name"
   ]
  },
  {
   "cell_type": "code",
   "execution_count": 11,
   "id": "e13b1bb7",
   "metadata": {},
   "outputs": [
    {
     "name": "stdout",
     "output_type": "stream",
     "text": [
      "test3\n"
     ]
    }
   ],
   "source": [
    "burakPlus.test3()"
   ]
  },
  {
   "cell_type": "code",
   "execution_count": 12,
   "id": "20f2465e",
   "metadata": {},
   "outputs": [
    {
     "name": "stdout",
     "output_type": "stream",
     "text": [
      "test2\n"
     ]
    }
   ],
   "source": [
    "burakPlus.test2()"
   ]
  },
  {
   "cell_type": "code",
   "execution_count": 13,
   "id": "95781292",
   "metadata": {},
   "outputs": [
    {
     "name": "stdout",
     "output_type": "stream",
     "text": [
      "test1 overrided\n"
     ]
    }
   ],
   "source": [
    "burakPlus.test1()"
   ]
  },
  {
   "cell_type": "markdown",
   "id": "7a47c007",
   "metadata": {},
   "source": [
    "# polymorphism"
   ]
  },
  {
   "cell_type": "code",
   "execution_count": 15,
   "id": "34ac3e07",
   "metadata": {},
   "outputs": [],
   "source": [
    "class Dog():\n",
    "    def __init__(self,name):\n",
    "        self.name = name\n",
    "        \n",
    "    def sound(self):\n",
    "        return f\"{self.name} sound is hav\""
   ]
  },
  {
   "cell_type": "code",
   "execution_count": 16,
   "id": "1a1d614b",
   "metadata": {},
   "outputs": [],
   "source": [
    "class Cat():\n",
    "    def __init__(self,name):\n",
    "        self.name = name\n",
    "    \n",
    "    def sound(self):\n",
    "        return f\"{self.name} sound is miav\""
   ]
  },
  {
   "cell_type": "code",
   "execution_count": 17,
   "id": "5edeea95",
   "metadata": {},
   "outputs": [],
   "source": [
    "dog = Dog(\"dog\")"
   ]
  },
  {
   "cell_type": "code",
   "execution_count": 18,
   "id": "f66bc007",
   "metadata": {},
   "outputs": [],
   "source": [
    "cat = Cat(\"cat\")"
   ]
  },
  {
   "cell_type": "code",
   "execution_count": 19,
   "id": "dc4f69ba",
   "metadata": {},
   "outputs": [],
   "source": [
    "animals = [cat,dog]"
   ]
  },
  {
   "cell_type": "code",
   "execution_count": 20,
   "id": "67e58631",
   "metadata": {},
   "outputs": [
    {
     "name": "stdout",
     "output_type": "stream",
     "text": [
      "cat sound is miav\n",
      "dog sound is hav\n"
     ]
    }
   ],
   "source": [
    "for animal in animals:\n",
    "    print(animal.sound()) # same method in different class different returns"
   ]
  },
  {
   "cell_type": "markdown",
   "id": "7e65eddc",
   "metadata": {},
   "source": [
    "# encapsulation (hapsetmek, kapsülleme)"
   ]
  },
  {
   "cell_type": "code",
   "execution_count": 22,
   "id": "7b2161b6",
   "metadata": {},
   "outputs": [],
   "source": [
    "class Phone():\n",
    "    def __init__(self,name,price):\n",
    "        self.name = name\n",
    "        self.__price = price\n",
    "    \n",
    "    def info(self):\n",
    "        return(f\"{self.name} phone price is {self.__price}\")\n",
    "    \n",
    "    def changePrice(self,price):\n",
    "        self.__price = price"
   ]
  },
  {
   "cell_type": "code",
   "execution_count": 23,
   "id": "facd1fd6",
   "metadata": {},
   "outputs": [],
   "source": [
    "iphone = Phone(\"iphone\", 500) "
   ]
  },
  {
   "cell_type": "code",
   "execution_count": 24,
   "id": "d116c771",
   "metadata": {},
   "outputs": [
    {
     "data": {
      "text/plain": [
       "'iphone phone price is 500'"
      ]
     },
     "execution_count": 24,
     "metadata": {},
     "output_type": "execute_result"
    }
   ],
   "source": [
    "iphone.info()"
   ]
  },
  {
   "cell_type": "code",
   "execution_count": 25,
   "id": "9aa2494a",
   "metadata": {},
   "outputs": [],
   "source": [
    "iphone.price = 400"
   ]
  },
  {
   "cell_type": "code",
   "execution_count": 26,
   "id": "2925d894",
   "metadata": {},
   "outputs": [
    {
     "data": {
      "text/plain": [
       "'iphone phone price is 500'"
      ]
     },
     "execution_count": 26,
     "metadata": {},
     "output_type": "execute_result"
    }
   ],
   "source": [
    "iphone.info()"
   ]
  },
  {
   "cell_type": "code",
   "execution_count": 27,
   "id": "1f29db05",
   "metadata": {},
   "outputs": [],
   "source": [
    "iphone.__price = 400"
   ]
  },
  {
   "cell_type": "code",
   "execution_count": 28,
   "id": "3d8add35",
   "metadata": {},
   "outputs": [
    {
     "data": {
      "text/plain": [
       "400"
      ]
     },
     "execution_count": 28,
     "metadata": {},
     "output_type": "execute_result"
    }
   ],
   "source": [
    "iphone.price"
   ]
  },
  {
   "cell_type": "code",
   "execution_count": 29,
   "id": "f136c13c",
   "metadata": {},
   "outputs": [
    {
     "data": {
      "text/plain": [
       "'iphone phone price is 500'"
      ]
     },
     "execution_count": 29,
     "metadata": {},
     "output_type": "execute_result"
    }
   ],
   "source": [
    "iphone.info()"
   ]
  },
  {
   "cell_type": "code",
   "execution_count": 30,
   "id": "594a71e6",
   "metadata": {},
   "outputs": [],
   "source": [
    "iphone.changePrice(400)"
   ]
  },
  {
   "cell_type": "code",
   "execution_count": 31,
   "id": "920c9e46",
   "metadata": {},
   "outputs": [
    {
     "data": {
      "text/plain": [
       "'iphone phone price is 400'"
      ]
     },
     "execution_count": 31,
     "metadata": {},
     "output_type": "execute_result"
    }
   ],
   "source": [
    "iphone.info()"
   ]
  },
  {
   "cell_type": "markdown",
   "id": "e2cdce70",
   "metadata": {},
   "source": [
    "# abstraction"
   ]
  },
  {
   "cell_type": "code",
   "execution_count": 33,
   "id": "7b02e98d",
   "metadata": {},
   "outputs": [],
   "source": [
    "from abc import ABC, abstractmethod"
   ]
  },
  {
   "cell_type": "code",
   "execution_count": 34,
   "id": "9d1056b6",
   "metadata": {},
   "outputs": [],
   "source": [
    "class Car(ABC):\n",
    "    \n",
    "    @abstractmethod\n",
    "    def maxSpeed(self):\n",
    "        print(320)"
   ]
  },
  {
   "cell_type": "code",
   "execution_count": 35,
   "id": "51ec6a9b",
   "metadata": {},
   "outputs": [
    {
     "ename": "TypeError",
     "evalue": "Can't instantiate abstract class Car with abstract method maxSpeed",
     "output_type": "error",
     "traceback": [
      "\u001b[1;31m---------------------------------------------------------------------------\u001b[0m",
      "\u001b[1;31mTypeError\u001b[0m                                 Traceback (most recent call last)",
      "Cell \u001b[1;32mIn[35], line 1\u001b[0m\n\u001b[1;32m----> 1\u001b[0m Tesla \u001b[38;5;241m=\u001b[39m \u001b[43mCar\u001b[49m\u001b[43m(\u001b[49m\u001b[43m)\u001b[49m\n",
      "\u001b[1;31mTypeError\u001b[0m: Can't instantiate abstract class Car with abstract method maxSpeed"
     ]
    }
   ],
   "source": [
    "Tesla = Car()"
   ]
  },
  {
   "cell_type": "code",
   "execution_count": null,
   "id": "d3362291",
   "metadata": {},
   "outputs": [],
   "source": [
    "class BMW(Car):\n",
    "    pass\n",
    "    "
   ]
  },
  {
   "cell_type": "code",
   "execution_count": null,
   "id": "c89d9c36",
   "metadata": {},
   "outputs": [],
   "source": [
    "bmw = BMW()"
   ]
  },
  {
   "cell_type": "code",
   "execution_count": null,
   "id": "96046c5b",
   "metadata": {},
   "outputs": [],
   "source": [
    "class BMW(Car):\n",
    "    \n",
    "    def maxSpeed(self):\n",
    "        return 320"
   ]
  },
  {
   "cell_type": "code",
   "execution_count": null,
   "id": "dec49611",
   "metadata": {},
   "outputs": [],
   "source": [
    "bmw = BMW()"
   ]
  },
  {
   "cell_type": "code",
   "execution_count": null,
   "id": "da75130f",
   "metadata": {},
   "outputs": [],
   "source": [
    "bmw.maxSpeed()"
   ]
  },
  {
   "cell_type": "code",
   "execution_count": null,
   "id": "f5b71779",
   "metadata": {},
   "outputs": [],
   "source": [
    "BMW.maxSpeed()"
   ]
  },
  {
   "cell_type": "code",
   "execution_count": null,
   "id": "d0590e3d",
   "metadata": {},
   "outputs": [],
   "source": [
    "BMW.maxSpeed(bmw)"
   ]
  },
  {
   "cell_type": "markdown",
   "id": "aa7267f9",
   "metadata": {},
   "source": [
    "# Special Methods"
   ]
  },
  {
   "cell_type": "code",
   "execution_count": 80,
   "id": "754ebdff",
   "metadata": {},
   "outputs": [],
   "source": [
    "class Fruit():\n",
    "    def __init__(self,name,calories):\n",
    "        self.name = name \n",
    "        self.calories = calories\n",
    "\n",
    "    def __str__(self):\n",
    "        return f\"{self.name} = {self.calories} calories \"\n",
    "\n",
    "    def __len__(self):\n",
    "        return self.calories"
   ]
  },
  {
   "cell_type": "code",
   "execution_count": 82,
   "id": "01031b9b-eb58-43ac-b52f-42a4dfb4460f",
   "metadata": {},
   "outputs": [],
   "source": [
    "myFruit = Fruit(\"apple\",100)"
   ]
  },
  {
   "cell_type": "code",
   "execution_count": 84,
   "id": "f11ff63e-4436-4100-81a1-f0f3139b4dd1",
   "metadata": {},
   "outputs": [
    {
     "data": {
      "text/plain": [
       "'apple'"
      ]
     },
     "execution_count": 84,
     "metadata": {},
     "output_type": "execute_result"
    }
   ],
   "source": [
    "myFruit.name"
   ]
  },
  {
   "cell_type": "code",
   "execution_count": 86,
   "id": "b776ff1f-c946-43d2-87cb-065c019acb04",
   "metadata": {},
   "outputs": [
    {
     "data": {
      "text/plain": [
       "type"
      ]
     },
     "execution_count": 86,
     "metadata": {},
     "output_type": "execute_result"
    }
   ],
   "source": [
    "type(int)"
   ]
  },
  {
   "cell_type": "code",
   "execution_count": 88,
   "id": "ca5f3d19-83d1-47d9-bd80-d8ab2f1deb58",
   "metadata": {},
   "outputs": [
    {
     "name": "stdout",
     "output_type": "stream",
     "text": [
      "apple = 100 calories \n"
     ]
    }
   ],
   "source": [
    "print(myFruit)"
   ]
  },
  {
   "cell_type": "code",
   "execution_count": 90,
   "id": "47d13c4d-df1d-4c91-b57e-6ed64c2b2f76",
   "metadata": {},
   "outputs": [
    {
     "data": {
      "text/plain": [
       "100"
      ]
     },
     "execution_count": 90,
     "metadata": {},
     "output_type": "execute_result"
    }
   ],
   "source": [
    "myFruit.calories"
   ]
  },
  {
   "cell_type": "code",
   "execution_count": 92,
   "id": "75753d33-38ed-4e1f-99bf-7496a4db518e",
   "metadata": {},
   "outputs": [
    {
     "data": {
      "text/plain": [
       "100"
      ]
     },
     "execution_count": 92,
     "metadata": {},
     "output_type": "execute_result"
    }
   ],
   "source": [
    "len(myFruit)"
   ]
  },
  {
   "cell_type": "code",
   "execution_count": null,
   "id": "90db9303-a6b7-4b4c-b5a6-938902017598",
   "metadata": {},
   "outputs": [],
   "source": []
  }
 ],
 "metadata": {
  "kernelspec": {
   "display_name": "Python 3 (ipykernel)",
   "language": "python",
   "name": "python3"
  },
  "language_info": {
   "codemirror_mode": {
    "name": "ipython",
    "version": 3
   },
   "file_extension": ".py",
   "mimetype": "text/x-python",
   "name": "python",
   "nbconvert_exporter": "python",
   "pygments_lexer": "ipython3",
   "version": "3.10.14"
  }
 },
 "nbformat": 4,
 "nbformat_minor": 5
}
