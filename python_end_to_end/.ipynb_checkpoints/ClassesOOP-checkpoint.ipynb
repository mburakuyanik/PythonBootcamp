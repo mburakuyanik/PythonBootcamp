{
 "cells": [
  {
   "cell_type": "code",
   "execution_count": 24,
   "id": "16e7282b",
   "metadata": {},
   "outputs": [],
   "source": [
    "class Person():\n",
    "    #property\n",
    "    name = \"\"\n",
    "    age = 0\n",
    "    gender = \"\"\n",
    "    job = \"dev\"\n",
    "    \n",
    "    #initializer method\n",
    "    def __init__(self,name,age,gender):\n",
    "        self.name = name\n",
    "        self.age = age\n",
    "        self.gender = gender\n",
    "        print(\"init exec\")\n",
    "    \n",
    "    #method\n",
    "    def test():\n",
    "        print(\"self\")\n",
    "        \n",
    "    def printName(self):\n",
    "        print(self.name)\n",
    "        \n",
    "    def changeJob(self,job):\n",
    "        self.job = job\n",
    "        "
   ]
  },
  {
   "cell_type": "code",
   "execution_count": 25,
   "id": "e0974287",
   "metadata": {},
   "outputs": [
    {
     "name": "stdout",
     "output_type": "stream",
     "text": [
      "init exec\n"
     ]
    }
   ],
   "source": [
    "burak = Person(\"burak\",25,\"male\")"
   ]
  },
  {
   "cell_type": "code",
   "execution_count": 26,
   "id": "f52ff45d",
   "metadata": {},
   "outputs": [
    {
     "data": {
      "text/plain": [
       "__main__.Person"
      ]
     },
     "execution_count": 26,
     "metadata": {},
     "output_type": "execute_result"
    }
   ],
   "source": [
    "type(burak)"
   ]
  },
  {
   "cell_type": "code",
   "execution_count": 27,
   "id": "0c1a3b87",
   "metadata": {},
   "outputs": [
    {
     "data": {
      "text/plain": [
       "25"
      ]
     },
     "execution_count": 27,
     "metadata": {},
     "output_type": "execute_result"
    }
   ],
   "source": [
    "burak.age"
   ]
  },
  {
   "cell_type": "code",
   "execution_count": 28,
   "id": "bdfb232f",
   "metadata": {},
   "outputs": [
    {
     "data": {
      "text/plain": [
       "'male'"
      ]
     },
     "execution_count": 28,
     "metadata": {},
     "output_type": "execute_result"
    }
   ],
   "source": [
    "burak.gender"
   ]
  },
  {
   "cell_type": "code",
   "execution_count": 29,
   "id": "351a7577",
   "metadata": {},
   "outputs": [
    {
     "data": {
      "text/plain": [
       "'burak'"
      ]
     },
     "execution_count": 29,
     "metadata": {},
     "output_type": "execute_result"
    }
   ],
   "source": [
    "burak.name"
   ]
  },
  {
   "cell_type": "code",
   "execution_count": 30,
   "id": "ebcb08e2",
   "metadata": {},
   "outputs": [],
   "source": [
    "burak.name = \"burak\""
   ]
  },
  {
   "cell_type": "code",
   "execution_count": 31,
   "id": "e891f69a",
   "metadata": {},
   "outputs": [
    {
     "data": {
      "text/plain": [
       "'burak'"
      ]
     },
     "execution_count": 31,
     "metadata": {},
     "output_type": "execute_result"
    }
   ],
   "source": [
    "burak.name"
   ]
  },
  {
   "cell_type": "code",
   "execution_count": 32,
   "id": "d251d222",
   "metadata": {},
   "outputs": [
    {
     "data": {
      "text/plain": [
       "<bound method Person.test of <__main__.Person object at 0x000002789F482470>>"
      ]
     },
     "execution_count": 32,
     "metadata": {},
     "output_type": "execute_result"
    }
   ],
   "source": [
    "burak.test"
   ]
  },
  {
   "cell_type": "code",
   "execution_count": 33,
   "id": "7cc510e5",
   "metadata": {},
   "outputs": [
    {
     "name": "stdout",
     "output_type": "stream",
     "text": [
      "burak\n"
     ]
    }
   ],
   "source": [
    "burak.printName()"
   ]
  },
  {
   "cell_type": "code",
   "execution_count": 44,
   "id": "ed961c34",
   "metadata": {},
   "outputs": [],
   "source": [
    "burak.changeJob(\"a\")"
   ]
  },
  {
   "cell_type": "code",
   "execution_count": 45,
   "id": "326397f9",
   "metadata": {},
   "outputs": [
    {
     "data": {
      "text/plain": [
       "'a'"
      ]
     },
     "execution_count": 45,
     "metadata": {},
     "output_type": "execute_result"
    }
   ],
   "source": [
    "burak.job"
   ]
  },
  {
   "cell_type": "code",
   "execution_count": 46,
   "id": "aa551246",
   "metadata": {},
   "outputs": [],
   "source": [
    "class Dog():\n",
    "    \n",
    "    year = 7\n",
    "    \n",
    "    def __init__(self,age):\n",
    "        self.age = age\n",
    "    \n",
    "    def dogHumanAge(self):\n",
    "        return self.age * self.year  #Also dog.year be able to use instead of self.year both same meaning\n",
    "        "
   ]
  },
  {
   "cell_type": "code",
   "execution_count": 50,
   "id": "6a316856",
   "metadata": {},
   "outputs": [],
   "source": [
    "kızıl = Dog(3)"
   ]
  },
  {
   "cell_type": "code",
   "execution_count": 51,
   "id": "f39ceb96",
   "metadata": {},
   "outputs": [
    {
     "data": {
      "text/plain": [
       "3"
      ]
     },
     "execution_count": 51,
     "metadata": {},
     "output_type": "execute_result"
    }
   ],
   "source": [
    "kızıl.age"
   ]
  },
  {
   "cell_type": "code",
   "execution_count": 52,
   "id": "dcb13e88",
   "metadata": {},
   "outputs": [
    {
     "data": {
      "text/plain": [
       "<bound method Dog.dogHumanAge of <__main__.Dog object at 0x000002789F5AAEC0>>"
      ]
     },
     "execution_count": 52,
     "metadata": {},
     "output_type": "execute_result"
    }
   ],
   "source": [
    "kızıl.dogHumanAge"
   ]
  },
  {
   "cell_type": "code",
   "execution_count": 54,
   "id": "21f84332",
   "metadata": {},
   "outputs": [
    {
     "data": {
      "text/plain": [
       "21"
      ]
     },
     "execution_count": 54,
     "metadata": {},
     "output_type": "execute_result"
    }
   ],
   "source": [
    "kızıl.dogHumanAge()"
   ]
  },
  {
   "cell_type": "code",
   "execution_count": null,
   "id": "2d0e7709",
   "metadata": {},
   "outputs": [],
   "source": []
  }
 ],
 "metadata": {
  "kernelspec": {
   "display_name": "Python 3 (ipykernel)",
   "language": "python",
   "name": "python3"
  },
  "language_info": {
   "codemirror_mode": {
    "name": "ipython",
    "version": 3
   },
   "file_extension": ".py",
   "mimetype": "text/x-python",
   "name": "python",
   "nbconvert_exporter": "python",
   "pygments_lexer": "ipython3",
   "version": "3.10.9"
  }
 },
 "nbformat": 4,
 "nbformat_minor": 5
}
