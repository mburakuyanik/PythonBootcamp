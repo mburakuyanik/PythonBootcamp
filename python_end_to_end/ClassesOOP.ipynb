{
 "cells": [
  {
   "cell_type": "code",
   "execution_count": 10,
   "id": "16e7282b",
   "metadata": {},
   "outputs": [],
   "source": [
    "class Person():\n",
    "    name = \"\"\n",
    "    age = 0\n",
    "    gender = \"\"\n",
    "    \n",
    "    #method ,initializer\n",
    "    def __init__(self):\n",
    "        print(\"init exec\")"
   ]
  },
  {
   "cell_type": "code",
   "execution_count": 11,
   "id": "e0974287",
   "metadata": {},
   "outputs": [
    {
     "name": "stdout",
     "output_type": "stream",
     "text": [
      "init exec\n"
     ]
    }
   ],
   "source": [
    "burak = Person()"
   ]
  },
  {
   "cell_type": "code",
   "execution_count": 12,
   "id": "f52ff45d",
   "metadata": {},
   "outputs": [
    {
     "data": {
      "text/plain": [
       "__main__.Person"
      ]
     },
     "execution_count": 12,
     "metadata": {},
     "output_type": "execute_result"
    }
   ],
   "source": [
    "type(burak)"
   ]
  },
  {
   "cell_type": "code",
   "execution_count": 13,
   "id": "0c1a3b87",
   "metadata": {},
   "outputs": [
    {
     "data": {
      "text/plain": [
       "0"
      ]
     },
     "execution_count": 13,
     "metadata": {},
     "output_type": "execute_result"
    }
   ],
   "source": [
    "burak.age"
   ]
  },
  {
   "cell_type": "code",
   "execution_count": 14,
   "id": "bdfb232f",
   "metadata": {},
   "outputs": [
    {
     "data": {
      "text/plain": [
       "''"
      ]
     },
     "execution_count": 14,
     "metadata": {},
     "output_type": "execute_result"
    }
   ],
   "source": [
    "burak.gender"
   ]
  },
  {
   "cell_type": "code",
   "execution_count": 15,
   "id": "351a7577",
   "metadata": {},
   "outputs": [
    {
     "data": {
      "text/plain": [
       "''"
      ]
     },
     "execution_count": 15,
     "metadata": {},
     "output_type": "execute_result"
    }
   ],
   "source": [
    "burak.name"
   ]
  },
  {
   "cell_type": "code",
   "execution_count": 16,
   "id": "ebcb08e2",
   "metadata": {},
   "outputs": [],
   "source": [
    "burak.name = \"burak\""
   ]
  },
  {
   "cell_type": "code",
   "execution_count": 8,
   "id": "e891f69a",
   "metadata": {},
   "outputs": [
    {
     "data": {
      "text/plain": [
       "'burak'"
      ]
     },
     "execution_count": 8,
     "metadata": {},
     "output_type": "execute_result"
    }
   ],
   "source": [
    "burak.name"
   ]
  },
  {
   "cell_type": "code",
   "execution_count": null,
   "id": "e0adf08c",
   "metadata": {},
   "outputs": [],
   "source": []
  }
 ],
 "metadata": {
  "kernelspec": {
   "display_name": "Python 3 (ipykernel)",
   "language": "python",
   "name": "python3"
  },
  "language_info": {
   "codemirror_mode": {
    "name": "ipython",
    "version": 3
   },
   "file_extension": ".py",
   "mimetype": "text/x-python",
   "name": "python",
   "nbconvert_exporter": "python",
   "pygments_lexer": "ipython3",
   "version": "3.10.9"
  }
 },
 "nbformat": 4,
 "nbformat_minor": 5
}
