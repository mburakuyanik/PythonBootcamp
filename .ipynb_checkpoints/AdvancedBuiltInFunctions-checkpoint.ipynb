{
 "cells": [
  {
   "cell_type": "code",
   "execution_count": null,
   "id": "ea5cb6bc",
   "metadata": {},
   "outputs": [],
   "source": [
    "#range"
   ]
  },
  {
   "cell_type": "code",
   "execution_count": 2,
   "id": "582c414b",
   "metadata": {},
   "outputs": [
    {
     "data": {
      "text/plain": [
       "[5, 6, 7, 8, 9, 10, 11, 12, 13, 14, 15, 16, 17, 18, 19, 20, 21, 22, 23, 24]"
      ]
     },
     "execution_count": 2,
     "metadata": {},
     "output_type": "execute_result"
    }
   ],
   "source": [
    "list(range(5,25))"
   ]
  },
  {
   "cell_type": "code",
   "execution_count": 3,
   "id": "d3df75a8",
   "metadata": {},
   "outputs": [
    {
     "data": {
      "text/plain": [
       "[5, 7, 9]"
      ]
     },
     "execution_count": 3,
     "metadata": {},
     "output_type": "execute_result"
    }
   ],
   "source": [
    "list(range(5,10,2))"
   ]
  },
  {
   "cell_type": "code",
   "execution_count": 5,
   "id": "8aaba690",
   "metadata": {},
   "outputs": [
    {
     "data": {
      "text/plain": [
       "[0, 1, 2, 3, 4, 5]"
      ]
     },
     "execution_count": 5,
     "metadata": {},
     "output_type": "execute_result"
    }
   ],
   "source": [
    "myList=[0,10,22,33,44,55]     #manuel enumerate\n",
    "list(range(len(myList)))"
   ]
  },
  {
   "cell_type": "code",
   "execution_count": 6,
   "id": "0ee2fbcd",
   "metadata": {},
   "outputs": [],
   "source": [
    "#enumerate"
   ]
  },
  {
   "cell_type": "code",
   "execution_count": 7,
   "id": "91a76aff",
   "metadata": {},
   "outputs": [
    {
     "name": "stdout",
     "output_type": "stream",
     "text": [
      "(0, 0)\n",
      "(1, 10)\n",
      "(2, 22)\n",
      "(3, 33)\n",
      "(4, 44)\n",
      "(5, 55)\n"
     ]
    }
   ],
   "source": [
    "for element in enumerate(myList):  #tuple type\n",
    "    print(element)"
   ]
  },
  {
   "cell_type": "code",
   "execution_count": 8,
   "id": "67ef6b29",
   "metadata": {},
   "outputs": [],
   "source": [
    "#random"
   ]
  },
  {
   "cell_type": "code",
   "execution_count": 9,
   "id": "c8c3100b",
   "metadata": {},
   "outputs": [],
   "source": [
    "from random import randint"
   ]
  },
  {
   "cell_type": "code",
   "execution_count": 10,
   "id": "f480c660",
   "metadata": {},
   "outputs": [
    {
     "data": {
      "text/plain": [
       "56"
      ]
     },
     "execution_count": 10,
     "metadata": {},
     "output_type": "execute_result"
    }
   ],
   "source": [
    "randint(0,100)"
   ]
  },
  {
   "cell_type": "code",
   "execution_count": 11,
   "id": "6d5f7bfc",
   "metadata": {},
   "outputs": [],
   "source": [
    "from random import shuffle"
   ]
  },
  {
   "cell_type": "code",
   "execution_count": 12,
   "id": "76d7117f",
   "metadata": {},
   "outputs": [
    {
     "data": {
      "text/plain": [
       "[0, 10, 22, 33, 44, 55]"
      ]
     },
     "execution_count": 12,
     "metadata": {},
     "output_type": "execute_result"
    }
   ],
   "source": [
    "myList"
   ]
  },
  {
   "cell_type": "code",
   "execution_count": 13,
   "id": "4e9ebf2c",
   "metadata": {},
   "outputs": [],
   "source": [
    "shuffle(myList)"
   ]
  },
  {
   "cell_type": "code",
   "execution_count": 14,
   "id": "076bf236",
   "metadata": {},
   "outputs": [
    {
     "data": {
      "text/plain": [
       "[10, 22, 55, 44, 0, 33]"
      ]
     },
     "execution_count": 14,
     "metadata": {},
     "output_type": "execute_result"
    }
   ],
   "source": [
    "myList"
   ]
  },
  {
   "cell_type": "code",
   "execution_count": 23,
   "id": "ac749358",
   "metadata": {},
   "outputs": [
    {
     "data": {
      "text/plain": [
       "5"
      ]
     },
     "execution_count": 23,
     "metadata": {},
     "output_type": "execute_result"
    }
   ],
   "source": [
    "randint(0,len(myList)-1)"
   ]
  },
  {
   "cell_type": "code",
   "execution_count": 70,
   "id": "a64651f7",
   "metadata": {},
   "outputs": [
    {
     "data": {
      "text/plain": [
       "44"
      ]
     },
     "execution_count": 70,
     "metadata": {},
     "output_type": "execute_result"
    }
   ],
   "source": [
    "myList[randint(0,len(myList)-1)]"
   ]
  },
  {
   "cell_type": "code",
   "execution_count": 71,
   "id": "5b199f39",
   "metadata": {},
   "outputs": [],
   "source": [
    "#zip"
   ]
  },
  {
   "cell_type": "code",
   "execution_count": 72,
   "id": "676b2ab1",
   "metadata": {},
   "outputs": [],
   "source": [
    "food_list = [\"apple\",\"banana\",\"melon\"]\n",
    "calories_list = [100,150,200]\n",
    "day_list = [\"mon\",\"tue\",\"wed\"]"
   ]
  },
  {
   "cell_type": "code",
   "execution_count": 79,
   "id": "f7e7ee8e",
   "metadata": {},
   "outputs": [],
   "source": [
    "zip_list=zip(food_list,calories_list,day_list)"
   ]
  },
  {
   "cell_type": "code",
   "execution_count": 80,
   "id": "0d662309",
   "metadata": {},
   "outputs": [
    {
     "data": {
      "text/plain": [
       "zip"
      ]
     },
     "execution_count": 80,
     "metadata": {},
     "output_type": "execute_result"
    }
   ],
   "source": [
    "type(zip_list)"
   ]
  },
  {
   "cell_type": "code",
   "execution_count": 81,
   "id": "a4ddd81b",
   "metadata": {},
   "outputs": [
    {
     "data": {
      "text/plain": [
       "<zip at 0x1f3c3833940>"
      ]
     },
     "execution_count": 81,
     "metadata": {},
     "output_type": "execute_result"
    }
   ],
   "source": [
    "zip_list"
   ]
  },
  {
   "cell_type": "code",
   "execution_count": 75,
   "id": "ee688eb7",
   "metadata": {},
   "outputs": [],
   "source": [
    "zip_list=list(zip(food_list,calories_list,day_list))"
   ]
  },
  {
   "cell_type": "code",
   "execution_count": 76,
   "id": "94bf2569",
   "metadata": {},
   "outputs": [
    {
     "data": {
      "text/plain": [
       "list"
      ]
     },
     "execution_count": 76,
     "metadata": {},
     "output_type": "execute_result"
    }
   ],
   "source": [
    "type(zip_list)"
   ]
  },
  {
   "cell_type": "code",
   "execution_count": 77,
   "id": "d19489cd",
   "metadata": {},
   "outputs": [
    {
     "data": {
      "text/plain": [
       "[('apple', 100, 'mon'), ('banana', 150, 'tue'), ('melon', 200, 'wed')]"
      ]
     },
     "execution_count": 77,
     "metadata": {},
     "output_type": "execute_result"
    }
   ],
   "source": [
    "zip_list"
   ]
  },
  {
   "cell_type": "code",
   "execution_count": 82,
   "id": "19fc711f",
   "metadata": {},
   "outputs": [],
   "source": [
    "#list comprehension"
   ]
  },
  {
   "cell_type": "code",
   "execution_count": 99,
   "id": "53486942",
   "metadata": {},
   "outputs": [],
   "source": [
    "myString = \"metallica\"\n",
    "new_element_list = []\n",
    "\n",
    "for elem in myString:\n",
    "    new_element_list.append(elem)"
   ]
  },
  {
   "cell_type": "code",
   "execution_count": 101,
   "id": "2eb2206e",
   "metadata": {},
   "outputs": [
    {
     "data": {
      "text/plain": [
       "['m', 'e', 't', 'a', 'l', 'l', 'i', 'c', 'a']"
      ]
     },
     "execution_count": 101,
     "metadata": {},
     "output_type": "execute_result"
    }
   ],
   "source": [
    "new_element_list"
   ]
  },
  {
   "cell_type": "code",
   "execution_count": 109,
   "id": "ec727d89",
   "metadata": {},
   "outputs": [],
   "source": [
    "new_element_list_other_way = [element for element in myString]"
   ]
  },
  {
   "cell_type": "code",
   "execution_count": 110,
   "id": "da872e9b",
   "metadata": {},
   "outputs": [
    {
     "data": {
      "text/plain": [
       "['m', 'e', 't', 'a', 'l', 'l', 'i', 'c', 'a']"
      ]
     },
     "execution_count": 110,
     "metadata": {},
     "output_type": "execute_result"
    }
   ],
   "source": [
    "new_element_list_other_way"
   ]
  },
  {
   "cell_type": "code",
   "execution_count": 112,
   "id": "497419de",
   "metadata": {},
   "outputs": [],
   "source": [
    "myNumberList = [1,2,3,4,5,6,7]\n",
    "newNumList = []\n",
    "\n",
    "for num in myNumberList:\n",
    "    newNumList.append(num/2)"
   ]
  },
  {
   "cell_type": "code",
   "execution_count": 113,
   "id": "7b89eae5",
   "metadata": {},
   "outputs": [
    {
     "data": {
      "text/plain": [
       "[0.5, 1.0, 1.5, 2.0, 2.5, 3.0, 3.5]"
      ]
     },
     "execution_count": 113,
     "metadata": {},
     "output_type": "execute_result"
    }
   ],
   "source": [
    "newNumList"
   ]
  },
  {
   "cell_type": "code",
   "execution_count": 115,
   "id": "c73f6e60",
   "metadata": {},
   "outputs": [],
   "source": [
    "newNumListWithEasyWay= [num for num in myNumberList]"
   ]
  },
  {
   "cell_type": "code",
   "execution_count": 116,
   "id": "fd3ee754",
   "metadata": {},
   "outputs": [
    {
     "data": {
      "text/plain": [
       "[1, 2, 3, 4, 5, 6, 7]"
      ]
     },
     "execution_count": 116,
     "metadata": {},
     "output_type": "execute_result"
    }
   ],
   "source": [
    "newNumListWithEasyWay"
   ]
  },
  {
   "cell_type": "code",
   "execution_count": null,
   "id": "79d47581",
   "metadata": {},
   "outputs": [],
   "source": []
  }
 ],
 "metadata": {
  "kernelspec": {
   "display_name": "Python 3 (ipykernel)",
   "language": "python",
   "name": "python3"
  },
  "language_info": {
   "codemirror_mode": {
    "name": "ipython",
    "version": 3
   },
   "file_extension": ".py",
   "mimetype": "text/x-python",
   "name": "python",
   "nbconvert_exporter": "python",
   "pygments_lexer": "ipython3",
   "version": "3.10.9"
  }
 },
 "nbformat": 4,
 "nbformat_minor": 5
}
