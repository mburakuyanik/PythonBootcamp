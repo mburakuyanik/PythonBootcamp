{
 "cells": [
  {
   "cell_type": "code",
   "execution_count": 1,
   "id": "6ec70e34",
   "metadata": {},
   "outputs": [],
   "source": [
    "#unique elements, unordered"
   ]
  },
  {
   "cell_type": "code",
   "execution_count": 2,
   "id": "d56f2996",
   "metadata": {},
   "outputs": [],
   "source": [
    "myList = [10,20,30,20,20,10,40]"
   ]
  },
  {
   "cell_type": "code",
   "execution_count": 3,
   "id": "626f715d",
   "metadata": {},
   "outputs": [
    {
     "data": {
      "text/plain": [
       "{10, 20, 30, 40}"
      ]
     },
     "execution_count": 3,
     "metadata": {},
     "output_type": "execute_result"
    }
   ],
   "source": [
    "set(myList)"
   ]
  },
  {
   "cell_type": "code",
   "execution_count": 10,
   "id": "7ffc4f3b",
   "metadata": {},
   "outputs": [],
   "source": [
    "mySet = {\"string\",\"string\",10,10,20,30,40,40}"
   ]
  },
  {
   "cell_type": "code",
   "execution_count": 11,
   "id": "479e6c7e",
   "metadata": {},
   "outputs": [
    {
     "data": {
      "text/plain": [
       "{10, 20, 30, 40, 'string'}"
      ]
     },
     "execution_count": 11,
     "metadata": {},
     "output_type": "execute_result"
    }
   ],
   "source": [
    "mySet"
   ]
  },
  {
   "cell_type": "code",
   "execution_count": 13,
   "id": "76e1ea61",
   "metadata": {},
   "outputs": [],
   "source": [
    "mySet.add(20)"
   ]
  },
  {
   "cell_type": "code",
   "execution_count": 14,
   "id": "a8065325",
   "metadata": {},
   "outputs": [
    {
     "data": {
      "text/plain": [
       "{10, 20, 30, 40, 'string'}"
      ]
     },
     "execution_count": 14,
     "metadata": {},
     "output_type": "execute_result"
    }
   ],
   "source": [
    "mySet"
   ]
  },
  {
   "cell_type": "code",
   "execution_count": 15,
   "id": "219713c4",
   "metadata": {},
   "outputs": [],
   "source": [
    "mySet2 = {10,20,\"str\"}"
   ]
  },
  {
   "cell_type": "code",
   "execution_count": 16,
   "id": "b7de922e",
   "metadata": {},
   "outputs": [
    {
     "data": {
      "text/plain": [
       "{10, 20, 30, 40, 'str', 'string'}"
      ]
     },
     "execution_count": 16,
     "metadata": {},
     "output_type": "execute_result"
    }
   ],
   "source": [
    "mySet.union(mySet2)"
   ]
  },
  {
   "cell_type": "code",
   "execution_count": 17,
   "id": "c37c5c7a",
   "metadata": {},
   "outputs": [
    {
     "data": {
      "text/plain": [
       "{10, 20}"
      ]
     },
     "execution_count": 17,
     "metadata": {},
     "output_type": "execute_result"
    }
   ],
   "source": [
    "mySet.intersection(mySet2)"
   ]
  },
  {
   "cell_type": "code",
   "execution_count": 18,
   "id": "9b51be75",
   "metadata": {},
   "outputs": [],
   "source": [
    "CountryList = [\"de\",\"fr\",\"tr\",\"de\",\"nl\",\"br\",\"br\",\"tr\",\"al\"]"
   ]
  },
  {
   "cell_type": "code",
   "execution_count": 19,
   "id": "c4d1ba25",
   "metadata": {},
   "outputs": [
    {
     "data": {
      "text/plain": [
       "{'al', 'br', 'de', 'fr', 'nl', 'tr'}"
      ]
     },
     "execution_count": 19,
     "metadata": {},
     "output_type": "execute_result"
    }
   ],
   "source": [
    "set(CountryList)"
   ]
  },
  {
   "cell_type": "code",
   "execution_count": 28,
   "id": "1b148007",
   "metadata": {},
   "outputs": [
    {
     "data": {
      "text/plain": [
       "6"
      ]
     },
     "execution_count": 28,
     "metadata": {},
     "output_type": "execute_result"
    }
   ],
   "source": [
    "len(set(CountryList))"
   ]
  },
  {
   "cell_type": "code",
   "execution_count": 29,
   "id": "c272c8e8",
   "metadata": {},
   "outputs": [],
   "source": [
    "emptySet = set()"
   ]
  },
  {
   "cell_type": "code",
   "execution_count": 31,
   "id": "83c1afa5",
   "metadata": {},
   "outputs": [],
   "source": [
    "emptySet.add(20)\n",
    "emptySet.add(20)\n",
    "emptySet.add(30)\n",
    "emptySet.add(\"a\")"
   ]
  },
  {
   "cell_type": "code",
   "execution_count": 32,
   "id": "1c93281e",
   "metadata": {},
   "outputs": [
    {
     "data": {
      "text/plain": [
       "{20, 30, 'a'}"
      ]
     },
     "execution_count": 32,
     "metadata": {},
     "output_type": "execute_result"
    }
   ],
   "source": [
    "emptySet"
   ]
  },
  {
   "cell_type": "code",
   "execution_count": 33,
   "id": "a2ef85ad",
   "metadata": {},
   "outputs": [],
   "source": [
    "emptyDict = dict()"
   ]
  },
  {
   "cell_type": "code",
   "execution_count": 34,
   "id": "c6a59f20",
   "metadata": {},
   "outputs": [
    {
     "data": {
      "text/plain": [
       "dict"
      ]
     },
     "execution_count": 34,
     "metadata": {},
     "output_type": "execute_result"
    }
   ],
   "source": [
    "type(emptyDict)"
   ]
  },
  {
   "cell_type": "code",
   "execution_count": 35,
   "id": "c3f45bf6",
   "metadata": {},
   "outputs": [],
   "source": [
    "emptyList = list()"
   ]
  },
  {
   "cell_type": "code",
   "execution_count": 36,
   "id": "0eef3f51",
   "metadata": {},
   "outputs": [
    {
     "data": {
      "text/plain": [
       "list"
      ]
     },
     "execution_count": 36,
     "metadata": {},
     "output_type": "execute_result"
    }
   ],
   "source": [
    "type(emptyList)"
   ]
  },
  {
   "cell_type": "code",
   "execution_count": 38,
   "id": "11e6c1ed",
   "metadata": {},
   "outputs": [],
   "source": [
    "emptyDict[\"sa\"]=\"as\""
   ]
  },
  {
   "cell_type": "code",
   "execution_count": 39,
   "id": "cf5d5c70",
   "metadata": {},
   "outputs": [
    {
     "data": {
      "text/plain": [
       "{'sa': 'as'}"
      ]
     },
     "execution_count": 39,
     "metadata": {},
     "output_type": "execute_result"
    }
   ],
   "source": [
    "emptyDict"
   ]
  },
  {
   "cell_type": "code",
   "execution_count": null,
   "id": "08ed4f1a",
   "metadata": {},
   "outputs": [],
   "source": []
  }
 ],
 "metadata": {
  "kernelspec": {
   "display_name": "Python 3 (ipykernel)",
   "language": "python",
   "name": "python3"
  },
  "language_info": {
   "codemirror_mode": {
    "name": "ipython",
    "version": 3
   },
   "file_extension": ".py",
   "mimetype": "text/x-python",
   "name": "python",
   "nbconvert_exporter": "python",
   "pygments_lexer": "ipython3",
   "version": "3.10.9"
  }
 },
 "nbformat": 4,
 "nbformat_minor": 5
}
