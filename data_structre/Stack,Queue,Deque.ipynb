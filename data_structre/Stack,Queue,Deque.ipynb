{
 "cells": [
  {
   "cell_type": "code",
   "execution_count": 1,
   "id": "53f58067",
   "metadata": {},
   "outputs": [],
   "source": [
    "myList = list()"
   ]
  },
  {
   "cell_type": "code",
   "execution_count": 2,
   "id": "73e217ce",
   "metadata": {},
   "outputs": [],
   "source": [
    "myList.append(1)"
   ]
  },
  {
   "cell_type": "code",
   "execution_count": 3,
   "id": "76b7f9be",
   "metadata": {},
   "outputs": [
    {
     "data": {
      "text/plain": [
       "[1]"
      ]
     },
     "execution_count": 3,
     "metadata": {},
     "output_type": "execute_result"
    }
   ],
   "source": [
    "myList"
   ]
  },
  {
   "cell_type": "code",
   "execution_count": 4,
   "id": "412a83cf",
   "metadata": {},
   "outputs": [],
   "source": [
    "myList.append(2)"
   ]
  },
  {
   "cell_type": "code",
   "execution_count": 5,
   "id": "a8208db9",
   "metadata": {},
   "outputs": [
    {
     "data": {
      "text/plain": [
       "[1, 2]"
      ]
     },
     "execution_count": 5,
     "metadata": {},
     "output_type": "execute_result"
    }
   ],
   "source": [
    "myList"
   ]
  },
  {
   "cell_type": "code",
   "execution_count": 6,
   "id": "11efe3ed",
   "metadata": {},
   "outputs": [
    {
     "data": {
      "text/plain": [
       "2"
      ]
     },
     "execution_count": 6,
     "metadata": {},
     "output_type": "execute_result"
    }
   ],
   "source": [
    "myList.pop()"
   ]
  },
  {
   "cell_type": "code",
   "execution_count": 7,
   "id": "ce375d86",
   "metadata": {},
   "outputs": [
    {
     "data": {
      "text/plain": [
       "[1]"
      ]
     },
     "execution_count": 7,
     "metadata": {},
     "output_type": "execute_result"
    }
   ],
   "source": [
    "myList"
   ]
  },
  {
   "cell_type": "code",
   "execution_count": 8,
   "id": "b0815d53",
   "metadata": {},
   "outputs": [],
   "source": [
    "from queue import LifoQueue  "
   ]
  },
  {
   "cell_type": "code",
   "execution_count": 9,
   "id": "cafebe73",
   "metadata": {},
   "outputs": [],
   "source": [
    "LifoQueue = LifoQueue() #last in first out çalışır stack yapısında"
   ]
  },
  {
   "cell_type": "code",
   "execution_count": 10,
   "id": "33b00a3d",
   "metadata": {},
   "outputs": [
    {
     "data": {
      "text/plain": [
       "queue.LifoQueue"
      ]
     },
     "execution_count": 10,
     "metadata": {},
     "output_type": "execute_result"
    }
   ],
   "source": [
    "type(LifoQueue)"
   ]
  },
  {
   "cell_type": "code",
   "execution_count": 11,
   "id": "283f44fc",
   "metadata": {},
   "outputs": [],
   "source": [
    "LifoQueue.put(3)"
   ]
  },
  {
   "cell_type": "code",
   "execution_count": 12,
   "id": "38d4e8f1",
   "metadata": {},
   "outputs": [],
   "source": [
    "LifoQueue.put(2)"
   ]
  },
  {
   "cell_type": "code",
   "execution_count": 13,
   "id": "49d8a2ea",
   "metadata": {},
   "outputs": [
    {
     "data": {
      "text/plain": [
       "<queue.LifoQueue at 0x23ded54b0d0>"
      ]
     },
     "execution_count": 13,
     "metadata": {},
     "output_type": "execute_result"
    }
   ],
   "source": [
    "LifoQueue"
   ]
  },
  {
   "cell_type": "code",
   "execution_count": 14,
   "id": "77e20a86",
   "metadata": {},
   "outputs": [
    {
     "data": {
      "text/plain": [
       "2"
      ]
     },
     "execution_count": 14,
     "metadata": {},
     "output_type": "execute_result"
    }
   ],
   "source": [
    "LifoQueue.get()"
   ]
  },
  {
   "cell_type": "code",
   "execution_count": 15,
   "id": "d0280c16",
   "metadata": {},
   "outputs": [
    {
     "data": {
      "text/plain": [
       "<bound method Queue.get of <queue.LifoQueue object at 0x0000023DED54B0D0>>"
      ]
     },
     "execution_count": 15,
     "metadata": {},
     "output_type": "execute_result"
    }
   ],
   "source": [
    "LifoQueue.get"
   ]
  },
  {
   "cell_type": "code",
   "execution_count": 16,
   "id": "d2869e1d",
   "metadata": {},
   "outputs": [
    {
     "data": {
      "text/plain": [
       "3"
      ]
     },
     "execution_count": 16,
     "metadata": {},
     "output_type": "execute_result"
    }
   ],
   "source": [
    "LifoQueue.get()"
   ]
  },
  {
   "cell_type": "code",
   "execution_count": 17,
   "id": "7b905137",
   "metadata": {},
   "outputs": [],
   "source": [
    "# LifoQueue.get() boş stack çalıştırırsan bug'a girebilir kernel sıfırlama yapman gerekir"
   ]
  },
  {
   "cell_type": "code",
   "execution_count": 18,
   "id": "f0926022",
   "metadata": {},
   "outputs": [],
   "source": [
    "from queue import Queue"
   ]
  },
  {
   "cell_type": "code",
   "execution_count": 19,
   "id": "4fb5a0a7",
   "metadata": {},
   "outputs": [],
   "source": [
    "queue = Queue() #first in first out algoritmasında queue(sıra) yapısında olur"
   ]
  },
  {
   "cell_type": "code",
   "execution_count": 20,
   "id": "9882d10d",
   "metadata": {},
   "outputs": [
    {
     "data": {
      "text/plain": [
       "<queue.Queue at 0x23ded54ad40>"
      ]
     },
     "execution_count": 20,
     "metadata": {},
     "output_type": "execute_result"
    }
   ],
   "source": [
    "Queue()"
   ]
  },
  {
   "cell_type": "code",
   "execution_count": 44,
   "id": "a0bc5691",
   "metadata": {},
   "outputs": [],
   "source": [
    "queue.put(1)"
   ]
  },
  {
   "cell_type": "code",
   "execution_count": 45,
   "id": "a4358548",
   "metadata": {},
   "outputs": [],
   "source": [
    "queue.put(2)"
   ]
  },
  {
   "cell_type": "code",
   "execution_count": 46,
   "id": "a396e30d",
   "metadata": {},
   "outputs": [],
   "source": [
    "queue.put(3)"
   ]
  },
  {
   "cell_type": "code",
   "execution_count": 41,
   "id": "4d4aecec",
   "metadata": {},
   "outputs": [
    {
     "data": {
      "text/plain": [
       "3"
      ]
     },
     "execution_count": 41,
     "metadata": {},
     "output_type": "execute_result"
    }
   ],
   "source": [
    "queue.get()"
   ]
  },
  {
   "cell_type": "code",
   "execution_count": 42,
   "id": "aa3441f4",
   "metadata": {},
   "outputs": [
    {
     "data": {
      "text/plain": [
       "3"
      ]
     },
     "execution_count": 42,
     "metadata": {},
     "output_type": "execute_result"
    }
   ],
   "source": [
    "queue.get()"
   ]
  },
  {
   "cell_type": "code",
   "execution_count": 64,
   "id": "799369a8",
   "metadata": {},
   "outputs": [
    {
     "ename": "NameError",
     "evalue": "name 'myqueue' is not defined",
     "output_type": "error",
     "traceback": [
      "\u001b[1;31m---------------------------------------------------------------------------\u001b[0m",
      "\u001b[1;31mNameError\u001b[0m                                 Traceback (most recent call last)",
      "Cell \u001b[1;32mIn[64], line 1\u001b[0m\n\u001b[1;32m----> 1\u001b[0m \u001b[38;5;28mlen\u001b[39m(\u001b[43mmyqueue\u001b[49m)\n",
      "\u001b[1;31mNameError\u001b[0m: name 'myqueue' is not defined"
     ]
    }
   ],
   "source": [
    "len(myqueue)"
   ]
  },
  {
   "cell_type": "code",
   "execution_count": 27,
   "id": "628f1fdd",
   "metadata": {},
   "outputs": [],
   "source": [
    "from collections import deque"
   ]
  },
  {
   "cell_type": "code",
   "execution_count": 28,
   "id": "3ca37781",
   "metadata": {},
   "outputs": [],
   "source": [
    "myDeque = deque()"
   ]
  },
  {
   "cell_type": "code",
   "execution_count": 29,
   "id": "f03621c5",
   "metadata": {},
   "outputs": [],
   "source": [
    "myDeque.append(1)"
   ]
  },
  {
   "cell_type": "code",
   "execution_count": 30,
   "id": "f8be9ad0",
   "metadata": {},
   "outputs": [],
   "source": [
    "myDeque.append(2)"
   ]
  },
  {
   "cell_type": "code",
   "execution_count": 31,
   "id": "33897a5b",
   "metadata": {},
   "outputs": [
    {
     "data": {
      "text/plain": [
       "2"
      ]
     },
     "execution_count": 31,
     "metadata": {},
     "output_type": "execute_result"
    }
   ],
   "source": [
    "myDeque.pop()"
   ]
  },
  {
   "cell_type": "code",
   "execution_count": 32,
   "id": "122b11a8",
   "metadata": {},
   "outputs": [],
   "source": [
    "myDeque.append(3)"
   ]
  },
  {
   "cell_type": "code",
   "execution_count": 33,
   "id": "60bbe6e0",
   "metadata": {},
   "outputs": [],
   "source": [
    "myDeque.append(4)"
   ]
  },
  {
   "cell_type": "code",
   "execution_count": 34,
   "id": "398e1583",
   "metadata": {},
   "outputs": [
    {
     "data": {
      "text/plain": [
       "deque([1, 3, 4])"
      ]
     },
     "execution_count": 34,
     "metadata": {},
     "output_type": "execute_result"
    }
   ],
   "source": [
    "myDeque"
   ]
  },
  {
   "cell_type": "code",
   "execution_count": 35,
   "id": "61ab0144",
   "metadata": {},
   "outputs": [],
   "source": [
    "myDeque.appendleft(5)"
   ]
  },
  {
   "cell_type": "code",
   "execution_count": 66,
   "id": "d9f6f595",
   "metadata": {},
   "outputs": [
    {
     "data": {
      "text/plain": [
       "3"
      ]
     },
     "execution_count": 66,
     "metadata": {},
     "output_type": "execute_result"
    }
   ],
   "source": [
    "len(myDeque)"
   ]
  },
  {
   "cell_type": "code",
   "execution_count": 37,
   "id": "7b34d716",
   "metadata": {},
   "outputs": [
    {
     "data": {
      "text/plain": [
       "5"
      ]
     },
     "execution_count": 37,
     "metadata": {},
     "output_type": "execute_result"
    }
   ],
   "source": [
    "myDeque.popleft()"
   ]
  },
  {
   "cell_type": "code",
   "execution_count": 67,
   "id": "1cb76cfc",
   "metadata": {},
   "outputs": [],
   "source": [
    "# Implement Stack using Queues Leetcode Solution\n",
    "from queue import Queue\n",
    "\n",
    "class MyStack:\n",
    "\n",
    "    def __init__(self):\n",
    "        self.myStack = Queue()\n",
    "\n",
    "    def push(self, x: int):\n",
    "        return self.myStack.put(x)\n",
    "        \n",
    "    def pop(self):\n",
    "        size = self.myStack.qsize()\n",
    "        for _ in range(size-1) :\n",
    "            \n",
    "            currentElement = self.myStack.get() \n",
    "            self.myStack.put(currentElement)\n",
    "            \n",
    "        return self.myStack.get()\n",
    "            \n",
    "        \n",
    "    def top(self):\n",
    "        size = self.myStack.qsize()\n",
    "        for _ in range(size):\n",
    "            \n",
    "            currentElement = self.myStack.get()\n",
    "            self.myStack.put(currentElement)\n",
    "            \n",
    "        return currentElement\n",
    "            \n",
    "        \n",
    "        \n",
    "    def empty(self):\n",
    "        return self.myStack.qsize()== 0"
   ]
  },
  {
   "cell_type": "code",
   "execution_count": null,
   "id": "dadd2850",
   "metadata": {},
   "outputs": [],
   "source": []
  }
 ],
 "metadata": {
  "kernelspec": {
   "display_name": "Python 3 (ipykernel)",
   "language": "python",
   "name": "python3"
  },
  "language_info": {
   "codemirror_mode": {
    "name": "ipython",
    "version": 3
   },
   "file_extension": ".py",
   "mimetype": "text/x-python",
   "name": "python",
   "nbconvert_exporter": "python",
   "pygments_lexer": "ipython3",
   "version": "3.10.9"
  }
 },
 "nbformat": 4,
 "nbformat_minor": 5
}
