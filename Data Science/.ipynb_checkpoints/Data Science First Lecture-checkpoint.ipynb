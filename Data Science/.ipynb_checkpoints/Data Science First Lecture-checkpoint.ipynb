{
 "cells": [
  {
   "cell_type": "code",
   "execution_count": 73,
   "id": "33e7b4ab",
   "metadata": {},
   "outputs": [
    {
     "data": {
      "text/plain": [
       "str"
      ]
     },
     "execution_count": 73,
     "metadata": {},
     "output_type": "execute_result"
    }
   ],
   "source": [
    "metin = \"string\"\n",
    "type(metin)"
   ]
  },
  {
   "cell_type": "code",
   "execution_count": 74,
   "id": "f9a2960d",
   "metadata": {},
   "outputs": [
    {
     "data": {
      "text/plain": [
       "6"
      ]
     },
     "execution_count": 74,
     "metadata": {},
     "output_type": "execute_result"
    }
   ],
   "source": [
    "sirket = \"sirket\"\n",
    "len(sirket)"
   ]
  },
  {
   "cell_type": "code",
   "execution_count": 75,
   "id": "be59bd0c",
   "metadata": {
    "scrolled": true
   },
   "outputs": [
    {
     "data": {
      "text/plain": [
       "'This course prepared by coderspace in 2024   '"
      ]
     },
     "execution_count": 75,
     "metadata": {},
     "output_type": "execute_result"
    }
   ],
   "source": [
    "def course(company, year):\n",
    "    metin = \"This course prepared by {} in {}   \".format(company, year)\n",
    "    return metin\n",
    "\n",
    "course(\"coderspace\",2024)"
   ]
  },
  {
   "cell_type": "code",
   "execution_count": 76,
   "id": "46d2b296",
   "metadata": {},
   "outputs": [
    {
     "name": "stdout",
     "output_type": "stream",
     "text": [
      "[1, 2, 3, 4, 5, 'e']\n"
     ]
    },
    {
     "data": {
      "text/plain": [
       "list"
      ]
     },
     "execution_count": 76,
     "metadata": {},
     "output_type": "execute_result"
    }
   ],
   "source": [
    "list = [1,2,3,4,5,\"e\"]\n",
    "print(list)\n",
    "type(list)"
   ]
  },
  {
   "cell_type": "code",
   "execution_count": 77,
   "id": "930634c1",
   "metadata": {},
   "outputs": [
    {
     "data": {
      "text/plain": [
       "[2, 3, 4]"
      ]
     },
     "execution_count": 77,
     "metadata": {},
     "output_type": "execute_result"
    }
   ],
   "source": [
    "list[1:4]"
   ]
  },
  {
   "cell_type": "code",
   "execution_count": 78,
   "id": "dd1464c9",
   "metadata": {},
   "outputs": [],
   "source": [
    "list.append(\"yeni\")"
   ]
  },
  {
   "cell_type": "code",
   "execution_count": 79,
   "id": "01438910",
   "metadata": {
    "scrolled": true
   },
   "outputs": [
    {
     "data": {
      "text/plain": [
       "[1, 2, 3, 4, 5, 'e', 'yeni']"
      ]
     },
     "execution_count": 79,
     "metadata": {},
     "output_type": "execute_result"
    }
   ],
   "source": [
    "list"
   ]
  },
  {
   "cell_type": "code",
   "execution_count": 80,
   "id": "3f445cee",
   "metadata": {},
   "outputs": [
    {
     "data": {
      "text/plain": [
       "['yeni', 'e', 5, 4, 3, 1]"
      ]
     },
     "execution_count": 80,
     "metadata": {},
     "output_type": "execute_result"
    }
   ],
   "source": [
    "list.reverse()\n",
    "list.count(\"yeni\")\n",
    "list.remove(2)\n",
    "list"
   ]
  },
  {
   "cell_type": "code",
   "execution_count": 81,
   "id": "ef0b9b08",
   "metadata": {
    "scrolled": true
   },
   "outputs": [
    {
     "ename": "AttributeError",
     "evalue": "'tuple' object has no attribute 'append'",
     "output_type": "error",
     "traceback": [
      "\u001b[1;31m---------------------------------------------------------------------------\u001b[0m",
      "\u001b[1;31mAttributeError\u001b[0m                            Traceback (most recent call last)",
      "Cell \u001b[1;32mIn[81], line 2\u001b[0m\n\u001b[0;32m      1\u001b[0m \u001b[38;5;28mtuple\u001b[39m \u001b[38;5;241m=\u001b[39m (\u001b[38;5;241m1\u001b[39m,\u001b[38;5;241m2\u001b[39m,\u001b[38;5;241m3\u001b[39m,\u001b[38;5;241m4\u001b[39m) \n\u001b[1;32m----> 2\u001b[0m \u001b[38;5;28;43mtuple\u001b[39;49m\u001b[38;5;241;43m.\u001b[39;49m\u001b[43mappend\u001b[49m(\u001b[38;5;241m2\u001b[39m)\n",
      "\u001b[1;31mAttributeError\u001b[0m: 'tuple' object has no attribute 'append'"
     ]
    }
   ],
   "source": [
    "tuple = (1,2,3,4) \n",
    "tuple.append(2) #tupple is unchangeable"
   ]
  },
  {
   "cell_type": "code",
   "execution_count": 82,
   "id": "ebba33a9",
   "metadata": {},
   "outputs": [
    {
     "data": {
      "text/plain": [
       "{'İstanbul': 34, 'Malatya': 44}"
      ]
     },
     "execution_count": 82,
     "metadata": {},
     "output_type": "execute_result"
    }
   ],
   "source": [
    "dictionary = {\"İstanbul\":34, \"Malatya\":44}\n",
    "dictionary\n"
   ]
  },
  {
   "cell_type": "code",
   "execution_count": 83,
   "id": "6f8d6b89",
   "metadata": {},
   "outputs": [
    {
     "data": {
      "text/plain": [
       "44"
      ]
     },
     "execution_count": 83,
     "metadata": {},
     "output_type": "execute_result"
    }
   ],
   "source": [
    "dictionary[\"Malatya\"]"
   ]
  },
  {
   "cell_type": "code",
   "execution_count": 84,
   "id": "51e14733",
   "metadata": {},
   "outputs": [
    {
     "data": {
      "text/plain": [
       "dict_keys(['İstanbul', 'Malatya'])"
      ]
     },
     "execution_count": 84,
     "metadata": {},
     "output_type": "execute_result"
    }
   ],
   "source": [
    "dictionary.keys()"
   ]
  },
  {
   "cell_type": "code",
   "execution_count": 85,
   "id": "3f5e54a1",
   "metadata": {},
   "outputs": [
    {
     "data": {
      "text/plain": [
       "dict_values([34, 44])"
      ]
     },
     "execution_count": 85,
     "metadata": {},
     "output_type": "execute_result"
    }
   ],
   "source": [
    "dictionary.values()"
   ]
  },
  {
   "cell_type": "code",
   "execution_count": 86,
   "id": "ece4b967",
   "metadata": {},
   "outputs": [
    {
     "name": "stdout",
     "output_type": "stream",
     "text": [
      "I love say 'good morning' to everyone \n"
     ]
    }
   ],
   "source": [
    "print(\"I love say 'good morning' to everyone \")"
   ]
  },
  {
   "cell_type": "code",
   "execution_count": 87,
   "id": "a94b3833",
   "metadata": {
    "scrolled": false
   },
   "outputs": [
    {
     "data": {
      "text/plain": [
       "2689320807872"
      ]
     },
     "execution_count": 87,
     "metadata": {},
     "output_type": "execute_result"
    }
   ],
   "source": [
    "id(dictionary)"
   ]
  },
  {
   "cell_type": "code",
   "execution_count": 88,
   "id": "4e0c5bee",
   "metadata": {},
   "outputs": [
    {
     "data": {
      "text/plain": [
       "complex"
      ]
     },
     "execution_count": 88,
     "metadata": {},
     "output_type": "execute_result"
    }
   ],
   "source": [
    "number = 3j +4 \n",
    "type(number)"
   ]
  },
  {
   "cell_type": "code",
   "execution_count": 89,
   "id": "753219ce",
   "metadata": {},
   "outputs": [
    {
     "name": "stdout",
     "output_type": "stream",
     "text": [
      "33\n",
      "1\n"
     ]
    }
   ],
   "source": [
    "numeriks = 100 \n",
    "print(numeriks//3)\n",
    "print(numeriks%3)"
   ]
  },
  {
   "cell_type": "code",
   "execution_count": null,
   "id": "c851c3ec",
   "metadata": {},
   "outputs": [],
   "source": [
    "print(\"a\"+\"\\t\" +\"b\") #\\t means in python tab \n"
   ]
  },
  {
   "cell_type": "code",
   "execution_count": null,
   "id": "94264ed9",
   "metadata": {},
   "outputs": [],
   "source": []
  }
 ],
 "metadata": {
  "kernelspec": {
   "display_name": "Python 3 (ipykernel)",
   "language": "python",
   "name": "python3"
  },
  "language_info": {
   "codemirror_mode": {
    "name": "ipython",
    "version": 3
   },
   "file_extension": ".py",
   "mimetype": "text/x-python",
   "name": "python",
   "nbconvert_exporter": "python",
   "pygments_lexer": "ipython3",
   "version": "3.10.9"
  }
 },
 "nbformat": 4,
 "nbformat_minor": 5
}
