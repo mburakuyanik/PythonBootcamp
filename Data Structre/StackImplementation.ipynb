{
 "cells": [
  {
   "cell_type": "code",
   "execution_count": 1,
   "id": "448b522c",
   "metadata": {},
   "outputs": [
    {
     "data": {
      "text/plain": [
       "'\\nStack()\\n\\npush(item)\\npop()\\nshowLast()\\nsize()\\nisEmpty()\\n\\n'"
      ]
     },
     "execution_count": 1,
     "metadata": {},
     "output_type": "execute_result"
    }
   ],
   "source": [
    "'''\n",
    "Stack()\n",
    "\n",
    "push(item)\n",
    "pop()\n",
    "showLast()\n",
    "size()\n",
    "isEmpty()\n",
    "\n",
    "'''"
   ]
  },
  {
   "cell_type": "code",
   "execution_count": 2,
   "id": "de62dc70",
   "metadata": {},
   "outputs": [],
   "source": [
    "class Stack():\n",
    "    \n",
    "    def __init__(self):\n",
    "        self.elements = []\n",
    "        \n",
    "    def isEmpty(self):\n",
    "        return self.elements == []\n",
    "    \n",
    "    def push(self,elements):\n",
    "        return self.elements.append(elements)\n",
    "    \n",
    "    def pop(self):\n",
    "        return self.elements.pop()\n",
    "    \n",
    "    def showLast(self):\n",
    "        return self.elements[len(self.elements)-1]\n",
    "    \n",
    "    def size(self):\n",
    "        return len(self.elements)"
   ]
  },
  {
   "cell_type": "code",
   "execution_count": 3,
   "id": "33805972",
   "metadata": {},
   "outputs": [],
   "source": [
    "myStack = Stack()"
   ]
  },
  {
   "cell_type": "code",
   "execution_count": 4,
   "id": "b2eac130",
   "metadata": {},
   "outputs": [
    {
     "data": {
      "text/plain": [
       "True"
      ]
     },
     "execution_count": 4,
     "metadata": {},
     "output_type": "execute_result"
    }
   ],
   "source": [
    "myStack.isEmpty()"
   ]
  },
  {
   "cell_type": "code",
   "execution_count": 5,
   "id": "6928fb2c",
   "metadata": {},
   "outputs": [],
   "source": [
    "myStack.push(1)"
   ]
  },
  {
   "cell_type": "code",
   "execution_count": 6,
   "id": "c594aa75",
   "metadata": {},
   "outputs": [],
   "source": [
    "myStack.push(2)"
   ]
  },
  {
   "cell_type": "code",
   "execution_count": 7,
   "id": "1c58525b",
   "metadata": {},
   "outputs": [],
   "source": [
    "myStack.push(3)"
   ]
  },
  {
   "cell_type": "code",
   "execution_count": 8,
   "id": "3b89f353",
   "metadata": {},
   "outputs": [
    {
     "data": {
      "text/plain": [
       "3"
      ]
     },
     "execution_count": 8,
     "metadata": {},
     "output_type": "execute_result"
    }
   ],
   "source": [
    "myStack.showLast()"
   ]
  },
  {
   "cell_type": "code",
   "execution_count": 9,
   "id": "4918950c",
   "metadata": {},
   "outputs": [
    {
     "data": {
      "text/plain": [
       "3"
      ]
     },
     "execution_count": 9,
     "metadata": {},
     "output_type": "execute_result"
    }
   ],
   "source": [
    "myStack.pop()"
   ]
  },
  {
   "cell_type": "code",
   "execution_count": 10,
   "id": "4b9080ae",
   "metadata": {},
   "outputs": [
    {
     "data": {
      "text/plain": [
       "2"
      ]
     },
     "execution_count": 10,
     "metadata": {},
     "output_type": "execute_result"
    }
   ],
   "source": [
    "myStack.size()"
   ]
  },
  {
   "cell_type": "code",
   "execution_count": 11,
   "id": "082f9a87",
   "metadata": {},
   "outputs": [
    {
     "data": {
      "text/plain": [
       "2"
      ]
     },
     "execution_count": 11,
     "metadata": {},
     "output_type": "execute_result"
    }
   ],
   "source": [
    "myStack.pop()"
   ]
  },
  {
   "cell_type": "code",
   "execution_count": 12,
   "id": "1d5385e7",
   "metadata": {},
   "outputs": [
    {
     "data": {
      "text/plain": [
       "1"
      ]
     },
     "execution_count": 12,
     "metadata": {},
     "output_type": "execute_result"
    }
   ],
   "source": [
    "myStack.pop()"
   ]
  },
  {
   "cell_type": "code",
   "execution_count": 14,
   "id": "e0c79bd8",
   "metadata": {},
   "outputs": [
    {
     "data": {
      "text/plain": [
       "True"
      ]
     },
     "execution_count": 14,
     "metadata": {},
     "output_type": "execute_result"
    }
   ],
   "source": [
    "myStack.isEmpty()"
   ]
  },
  {
   "cell_type": "code",
   "execution_count": null,
   "id": "70f3699a",
   "metadata": {},
   "outputs": [],
   "source": []
  }
 ],
 "metadata": {
  "kernelspec": {
   "display_name": "Python 3 (ipykernel)",
   "language": "python",
   "name": "python3"
  },
  "language_info": {
   "codemirror_mode": {
    "name": "ipython",
    "version": 3
   },
   "file_extension": ".py",
   "mimetype": "text/x-python",
   "name": "python",
   "nbconvert_exporter": "python",
   "pygments_lexer": "ipython3",
   "version": "3.10.9"
  }
 },
 "nbformat": 4,
 "nbformat_minor": 5
}
