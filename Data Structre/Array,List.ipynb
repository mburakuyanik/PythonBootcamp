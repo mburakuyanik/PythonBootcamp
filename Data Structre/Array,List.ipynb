{
 "cells": [
  {
   "cell_type": "code",
   "execution_count": 1,
   "id": "d03341e7",
   "metadata": {},
   "outputs": [],
   "source": [
    "# Array, List, Stack, Queue, Deque"
   ]
  },
  {
   "cell_type": "code",
   "execution_count": 2,
   "id": "2816eaca",
   "metadata": {},
   "outputs": [],
   "source": [
    "import sys\n"
   ]
  },
  {
   "cell_type": "code",
   "execution_count": 3,
   "id": "9c5c5df8",
   "metadata": {},
   "outputs": [
    {
     "name": "stdout",
     "output_type": "stream",
     "text": [
      "Length: 0 Byte: 56\n",
      "Length: 1 Byte: 88\n",
      "Length: 2 Byte: 88\n",
      "Length: 3 Byte: 88\n",
      "Length: 4 Byte: 88\n",
      "Length: 5 Byte: 120\n",
      "Length: 6 Byte: 120\n",
      "Length: 7 Byte: 120\n",
      "Length: 8 Byte: 120\n",
      "Length: 9 Byte: 184\n",
      "Length: 10 Byte: 184\n",
      "Length: 11 Byte: 184\n",
      "Length: 12 Byte: 184\n",
      "Length: 13 Byte: 184\n",
      "Length: 14 Byte: 184\n",
      "Length: 15 Byte: 184\n",
      "Length: 16 Byte: 184\n",
      "Length: 17 Byte: 248\n",
      "Length: 18 Byte: 248\n",
      "Length: 19 Byte: 248\n",
      "Length: 20 Byte: 248\n",
      "Length: 21 Byte: 248\n",
      "Length: 22 Byte: 248\n",
      "Length: 23 Byte: 248\n",
      "Length: 24 Byte: 248\n",
      "Length: 25 Byte: 312\n",
      "Length: 26 Byte: 312\n",
      "Length: 27 Byte: 312\n",
      "Length: 28 Byte: 312\n",
      "Length: 29 Byte: 312\n"
     ]
    }
   ],
   "source": [
    "n = 30\n",
    "myDynamicArray = []\n",
    "\n",
    "for i in range(0,n):\n",
    "    \n",
    "    myLength = len(myDynamicArray)\n",
    "    myByte = sys.getsizeof(myDynamicArray)\n",
    "    print(f\"Length: {myLength} Byte: {myByte}\")\n",
    "    myDynamicArray.append(n)"
   ]
  },
  {
   "cell_type": "code",
   "execution_count": 4,
   "id": "c2f1fabd",
   "metadata": {},
   "outputs": [
    {
     "data": {
      "text/plain": [
       "True"
      ]
     },
     "execution_count": 4,
     "metadata": {},
     "output_type": "execute_result"
    }
   ],
   "source": [
    "# leet code contains duplicate problem solving path\n",
    "nums = [1,2,3,1]\n",
    "\n",
    "def solution():\n",
    "    if len(set(nums)) == len(nums):\n",
    "        return False\n",
    "    return True\n",
    "solution()"
   ]
  },
  {
   "cell_type": "code",
   "execution_count": 5,
   "id": "02fb52eb",
   "metadata": {},
   "outputs": [
    {
     "data": {
      "text/plain": [
       "True"
      ]
     },
     "execution_count": 5,
     "metadata": {},
     "output_type": "execute_result"
    }
   ],
   "source": [
    "# leet code contains duplicate problem solving path 2\n",
    "nums = [1,2,3,4,5,6,7,2]\n",
    "\n",
    "def solution2():\n",
    "    hashSet = set()\n",
    "    for i in nums:\n",
    "        if i in hashSet:\n",
    "            return True\n",
    "        hashSet.add(i)\n",
    "    return False\n",
    "\n",
    "solution2()\n"
   ]
  },
  {
   "cell_type": "code",
   "execution_count": 6,
   "id": "43a26459",
   "metadata": {},
   "outputs": [
    {
     "data": {
      "text/plain": [
       "0"
      ]
     },
     "execution_count": 6,
     "metadata": {},
     "output_type": "execute_result"
    }
   ],
   "source": [
    "myList= list()\n",
    "len(myList)"
   ]
  },
  {
   "cell_type": "code",
   "execution_count": 7,
   "id": "45a8963f",
   "metadata": {},
   "outputs": [
    {
     "data": {
      "text/plain": [
       "1"
      ]
     },
     "execution_count": 7,
     "metadata": {},
     "output_type": "execute_result"
    }
   ],
   "source": [
    "# leet code single number problem solving path\n",
    "nums = [1,2,2,3,3]\n",
    "def solution():\n",
    "    result = 0 \n",
    "    for num in nums:\n",
    "        result = num ^ result\n",
    "    return result\n",
    "    \n",
    "solution()\n",
    "\n",
    "#bit manipulation"
   ]
  },
  {
   "cell_type": "code",
   "execution_count": 16,
   "id": "72584e3f",
   "metadata": {},
   "outputs": [
    {
     "data": {
      "text/plain": [
       "2"
      ]
     },
     "execution_count": 16,
     "metadata": {},
     "output_type": "execute_result"
    }
   ],
   "source": [
    "# leet code majority element problem solving with time complexity O(n) and space complexity O(1)\n",
    "nums = [2, 2, 1, 1, 1, 2, 2]\n",
    "\n",
    "def BoyerMoore():\n",
    "    counter = 0 \n",
    "    selectedOne = None\n",
    "    \n",
    "    for num in nums:\n",
    "        if counter == 0:\n",
    "            selectedOne = num #choose a random num\n",
    "        if  selectedOne == num:\n",
    "            counter +=1\n",
    "        else:\n",
    "            counter -=1\n",
    "    return selectedOne\n",
    "BoyerMoore()"
   ]
  },
  {
   "cell_type": "markdown",
   "id": "72cb180a",
   "metadata": {},
   "source": [
    "  if  selectedOne == num:\n",
    "        counter +=1\n",
    "    else:\n",
    "        counter -=1\n",
    "       \n",
    "#Tek satırda bu şekilde yazılır\n",
    "\n",
    "counter +=1 if selectedOne == num else -1"
   ]
  },
  {
   "cell_type": "code",
   "execution_count": null,
   "id": "336b8e6c",
   "metadata": {},
   "outputs": [],
   "source": []
  }
 ],
 "metadata": {
  "kernelspec": {
   "display_name": "Python 3 (ipykernel)",
   "language": "python",
   "name": "python3"
  },
  "language_info": {
   "codemirror_mode": {
    "name": "ipython",
    "version": 3
   },
   "file_extension": ".py",
   "mimetype": "text/x-python",
   "name": "python",
   "nbconvert_exporter": "python",
   "pygments_lexer": "ipython3",
   "version": "3.10.9"
  }
 },
 "nbformat": 4,
 "nbformat_minor": 5
}
