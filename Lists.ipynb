{
 "cells": [
  {
   "cell_type": "code",
   "execution_count": 1,
   "id": "e65de6f5",
   "metadata": {},
   "outputs": [],
   "source": [
    "myString = \"burak uyanık\""
   ]
  },
  {
   "cell_type": "code",
   "execution_count": 2,
   "id": "e89b4d1d",
   "metadata": {},
   "outputs": [
    {
     "data": {
      "text/plain": [
       "['burak', 'uyanık']"
      ]
     },
     "execution_count": 2,
     "metadata": {},
     "output_type": "execute_result"
    }
   ],
   "source": [
    "myString.split()"
   ]
  },
  {
   "cell_type": "code",
   "execution_count": 3,
   "id": "6741110f",
   "metadata": {},
   "outputs": [
    {
     "data": {
      "text/plain": [
       "list"
      ]
     },
     "execution_count": 3,
     "metadata": {},
     "output_type": "execute_result"
    }
   ],
   "source": [
    "type(myString.split())"
   ]
  },
  {
   "cell_type": "markdown",
   "id": "3ffc0a50",
   "metadata": {},
   "source": [
    "# List"
   ]
  },
  {
   "cell_type": "code",
   "execution_count": 4,
   "id": "fddd3d01",
   "metadata": {},
   "outputs": [],
   "source": [
    "myList = [1,2,3,\"x\"]"
   ]
  },
  {
   "cell_type": "code",
   "execution_count": 5,
   "id": "6fa654f5",
   "metadata": {},
   "outputs": [
    {
     "data": {
      "text/plain": [
       "list"
      ]
     },
     "execution_count": 5,
     "metadata": {},
     "output_type": "execute_result"
    }
   ],
   "source": [
    "type(myList)"
   ]
  },
  {
   "cell_type": "code",
   "execution_count": 6,
   "id": "0759e612",
   "metadata": {},
   "outputs": [
    {
     "data": {
      "text/plain": [
       "str"
      ]
     },
     "execution_count": 6,
     "metadata": {},
     "output_type": "execute_result"
    }
   ],
   "source": [
    "type(myList[3])"
   ]
  },
  {
   "cell_type": "code",
   "execution_count": 7,
   "id": "49ed174b",
   "metadata": {},
   "outputs": [
    {
     "data": {
      "text/plain": [
       "int"
      ]
     },
     "execution_count": 7,
     "metadata": {},
     "output_type": "execute_result"
    }
   ],
   "source": [
    "type(myList[0])"
   ]
  },
  {
   "cell_type": "code",
   "execution_count": 8,
   "id": "cebec674",
   "metadata": {},
   "outputs": [],
   "source": [
    "myList[0]= \"a\""
   ]
  },
  {
   "cell_type": "code",
   "execution_count": 9,
   "id": "8e8bd4ff",
   "metadata": {},
   "outputs": [
    {
     "data": {
      "text/plain": [
       "['a', 2, 3, 'x']"
      ]
     },
     "execution_count": 9,
     "metadata": {},
     "output_type": "execute_result"
    }
   ],
   "source": [
    "myList"
   ]
  },
  {
   "cell_type": "code",
   "execution_count": 10,
   "id": "9c64ff40",
   "metadata": {},
   "outputs": [],
   "source": [
    "#mutable - mutablity"
   ]
  },
  {
   "cell_type": "code",
   "execution_count": 11,
   "id": "5d54c2b0",
   "metadata": {},
   "outputs": [
    {
     "data": {
      "text/plain": [
       "4"
      ]
     },
     "execution_count": 11,
     "metadata": {},
     "output_type": "execute_result"
    }
   ],
   "source": [
    "len(myList)"
   ]
  },
  {
   "cell_type": "code",
   "execution_count": 12,
   "id": "26c2f3ed",
   "metadata": {},
   "outputs": [
    {
     "data": {
      "text/plain": [
       "'x'"
      ]
     },
     "execution_count": 12,
     "metadata": {},
     "output_type": "execute_result"
    }
   ],
   "source": [
    "myList[-1]"
   ]
  },
  {
   "cell_type": "code",
   "execution_count": 13,
   "id": "29778f67",
   "metadata": {},
   "outputs": [
    {
     "data": {
      "text/plain": [
       "[3, 'x']"
      ]
     },
     "execution_count": 13,
     "metadata": {},
     "output_type": "execute_result"
    }
   ],
   "source": [
    "myList[2:4:1]"
   ]
  },
  {
   "cell_type": "code",
   "execution_count": 14,
   "id": "e73b4780",
   "metadata": {},
   "outputs": [],
   "source": [
    "myList.append(\"b\")"
   ]
  },
  {
   "cell_type": "code",
   "execution_count": 15,
   "id": "662d53d4",
   "metadata": {},
   "outputs": [
    {
     "data": {
      "text/plain": [
       "['a', 2, 3, 'x', 'b']"
      ]
     },
     "execution_count": 15,
     "metadata": {},
     "output_type": "execute_result"
    }
   ],
   "source": [
    "myList"
   ]
  },
  {
   "cell_type": "code",
   "execution_count": 16,
   "id": "4f40094a",
   "metadata": {},
   "outputs": [
    {
     "data": {
      "text/plain": [
       "1"
      ]
     },
     "execution_count": 16,
     "metadata": {},
     "output_type": "execute_result"
    }
   ],
   "source": [
    "myList.count(\"b\")"
   ]
  },
  {
   "cell_type": "code",
   "execution_count": 17,
   "id": "7aa38518",
   "metadata": {},
   "outputs": [
    {
     "name": "stdout",
     "output_type": "stream",
     "text": [
      "Help on built-in function insert:\n",
      "\n",
      "insert(index, object, /) method of builtins.list instance\n",
      "    Insert object before index.\n",
      "\n"
     ]
    }
   ],
   "source": [
    "help(myList.insert)"
   ]
  },
  {
   "cell_type": "code",
   "execution_count": 18,
   "id": "16aa94d4",
   "metadata": {},
   "outputs": [],
   "source": [
    "myList.insert(2,2)"
   ]
  },
  {
   "cell_type": "code",
   "execution_count": 19,
   "id": "6f171b61",
   "metadata": {},
   "outputs": [
    {
     "data": {
      "text/plain": [
       "['a', 2, 2, 3, 'x', 'b']"
      ]
     },
     "execution_count": 19,
     "metadata": {},
     "output_type": "execute_result"
    }
   ],
   "source": [
    "myList"
   ]
  },
  {
   "cell_type": "code",
   "execution_count": 20,
   "id": "445d1f0f",
   "metadata": {},
   "outputs": [],
   "source": [
    "myList.reverse()"
   ]
  },
  {
   "cell_type": "code",
   "execution_count": 21,
   "id": "fbc1855a",
   "metadata": {},
   "outputs": [
    {
     "data": {
      "text/plain": [
       "['b', 'x', 3, 2, 2, 'a']"
      ]
     },
     "execution_count": 21,
     "metadata": {},
     "output_type": "execute_result"
    }
   ],
   "source": [
    "myList"
   ]
  },
  {
   "cell_type": "code",
   "execution_count": 22,
   "id": "c88d2d34",
   "metadata": {},
   "outputs": [],
   "source": [
    "myList.remove(3)"
   ]
  },
  {
   "cell_type": "code",
   "execution_count": 23,
   "id": "20ac9156",
   "metadata": {},
   "outputs": [
    {
     "data": {
      "text/plain": [
       "['b', 'x', 2, 2, 'a']"
      ]
     },
     "execution_count": 23,
     "metadata": {},
     "output_type": "execute_result"
    }
   ],
   "source": [
    "myList"
   ]
  },
  {
   "cell_type": "code",
   "execution_count": 24,
   "id": "e50f78a2",
   "metadata": {},
   "outputs": [],
   "source": [
    "myList.remove(2)"
   ]
  },
  {
   "cell_type": "code",
   "execution_count": 25,
   "id": "7aceab91",
   "metadata": {},
   "outputs": [
    {
     "data": {
      "text/plain": [
       "['b', 'x', 2, 'a']"
      ]
     },
     "execution_count": 25,
     "metadata": {},
     "output_type": "execute_result"
    }
   ],
   "source": [
    "myList"
   ]
  },
  {
   "cell_type": "code",
   "execution_count": 26,
   "id": "e30d29b9",
   "metadata": {},
   "outputs": [
    {
     "data": {
      "text/plain": [
       "'a'"
      ]
     },
     "execution_count": 26,
     "metadata": {},
     "output_type": "execute_result"
    }
   ],
   "source": [
    "myList.pop()"
   ]
  },
  {
   "cell_type": "code",
   "execution_count": 27,
   "id": "f97d8fb0",
   "metadata": {},
   "outputs": [
    {
     "name": "stdout",
     "output_type": "stream",
     "text": [
      "enter x:a\n"
     ]
    }
   ],
   "source": [
    "burak = input(\"enter x:\")"
   ]
  },
  {
   "cell_type": "code",
   "execution_count": 28,
   "id": "f4fa6c48",
   "metadata": {},
   "outputs": [
    {
     "data": {
      "text/plain": [
       "'a'"
      ]
     },
     "execution_count": 28,
     "metadata": {},
     "output_type": "execute_result"
    }
   ],
   "source": [
    "burak"
   ]
  },
  {
   "cell_type": "code",
   "execution_count": 29,
   "id": "09d9bb89",
   "metadata": {},
   "outputs": [
    {
     "name": "stdout",
     "output_type": "stream",
     "text": [
      "enter: 1\n"
     ]
    }
   ],
   "source": [
    "c = input(\"enter: \")"
   ]
  },
  {
   "cell_type": "code",
   "execution_count": 33,
   "id": "734151ad",
   "metadata": {},
   "outputs": [],
   "source": [
    "inputList = []"
   ]
  },
  {
   "cell_type": "code",
   "execution_count": 34,
   "id": "b050b78f",
   "metadata": {},
   "outputs": [],
   "source": [
    "inputList.append(burak)\n",
    "inputList.append(c)"
   ]
  },
  {
   "cell_type": "code",
   "execution_count": 35,
   "id": "8a6470c4",
   "metadata": {},
   "outputs": [
    {
     "data": {
      "text/plain": [
       "['a', '1']"
      ]
     },
     "execution_count": 35,
     "metadata": {},
     "output_type": "execute_result"
    }
   ],
   "source": [
    "inputList"
   ]
  },
  {
   "cell_type": "code",
   "execution_count": 36,
   "id": "e4383918",
   "metadata": {},
   "outputs": [
    {
     "data": {
      "text/plain": [
       "str"
      ]
     },
     "execution_count": 36,
     "metadata": {},
     "output_type": "execute_result"
    }
   ],
   "source": [
    "type(inputList[1])"
   ]
  },
  {
   "cell_type": "code",
   "execution_count": 37,
   "id": "a550f460",
   "metadata": {},
   "outputs": [
    {
     "data": {
      "text/plain": [
       "'1'"
      ]
     },
     "execution_count": 37,
     "metadata": {},
     "output_type": "execute_result"
    }
   ],
   "source": [
    "inputList[1]"
   ]
  },
  {
   "cell_type": "code",
   "execution_count": 40,
   "id": "88bac82c",
   "metadata": {},
   "outputs": [],
   "source": [
    "newIndex = int(inputList[1])"
   ]
  },
  {
   "cell_type": "code",
   "execution_count": 41,
   "id": "1ac556b4",
   "metadata": {},
   "outputs": [
    {
     "data": {
      "text/plain": [
       "int"
      ]
     },
     "execution_count": 41,
     "metadata": {},
     "output_type": "execute_result"
    }
   ],
   "source": [
    "type(newIndex)"
   ]
  },
  {
   "cell_type": "code",
   "execution_count": 42,
   "id": "981b0645",
   "metadata": {},
   "outputs": [
    {
     "data": {
      "text/plain": [
       "'1'"
      ]
     },
     "execution_count": 42,
     "metadata": {},
     "output_type": "execute_result"
    }
   ],
   "source": [
    "str(newIndex)"
   ]
  },
  {
   "cell_type": "code",
   "execution_count": 43,
   "id": "59ef00ef",
   "metadata": {},
   "outputs": [],
   "source": [
    "#NestedList\n",
    "nestedList = [1,2,3,\"x\",[\"a\",\"c\",9]]"
   ]
  },
  {
   "cell_type": "code",
   "execution_count": 47,
   "id": "2287a1c9",
   "metadata": {},
   "outputs": [
    {
     "data": {
      "text/plain": [
       "9"
      ]
     },
     "execution_count": 47,
     "metadata": {},
     "output_type": "execute_result"
    }
   ],
   "source": [
    "nestedList[4][2]"
   ]
  },
  {
   "cell_type": "code",
   "execution_count": null,
   "id": "753a6fd3",
   "metadata": {},
   "outputs": [],
   "source": []
  }
 ],
 "metadata": {
  "kernelspec": {
   "display_name": "Python 3 (ipykernel)",
   "language": "python",
   "name": "python3"
  },
  "language_info": {
   "codemirror_mode": {
    "name": "ipython",
    "version": 3
   },
   "file_extension": ".py",
   "mimetype": "text/x-python",
   "name": "python",
   "nbconvert_exporter": "python",
   "pygments_lexer": "ipython3",
   "version": "3.10.9"
  }
 },
 "nbformat": 4,
 "nbformat_minor": 5
}
