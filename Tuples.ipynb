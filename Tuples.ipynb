{
 "cells": [
  {
   "cell_type": "code",
   "execution_count": 2,
   "id": "0f228fe3",
   "metadata": {},
   "outputs": [],
   "source": [
    "myList = [\"a\",\"b\",10,3.14]"
   ]
  },
  {
   "cell_type": "code",
   "execution_count": 3,
   "id": "4d213b21",
   "metadata": {},
   "outputs": [],
   "source": [
    "myTuple = (\"a\",\"b\",10,3.14)"
   ]
  },
  {
   "cell_type": "code",
   "execution_count": 4,
   "id": "f782e86c",
   "metadata": {},
   "outputs": [
    {
     "data": {
      "text/plain": [
       "'a'"
      ]
     },
     "execution_count": 4,
     "metadata": {},
     "output_type": "execute_result"
    }
   ],
   "source": [
    "myTuple[0]"
   ]
  },
  {
   "cell_type": "code",
   "execution_count": 5,
   "id": "b195c5f6",
   "metadata": {},
   "outputs": [],
   "source": [
    "# tuple is immutable "
   ]
  },
  {
   "cell_type": "code",
   "execution_count": 6,
   "id": "5033324e",
   "metadata": {},
   "outputs": [
    {
     "data": {
      "text/plain": [
       "1"
      ]
     },
     "execution_count": 6,
     "metadata": {},
     "output_type": "execute_result"
    }
   ],
   "source": [
    "myTuple.count(\"a\")"
   ]
  },
  {
   "cell_type": "code",
   "execution_count": 8,
   "id": "86b9c1d5",
   "metadata": {},
   "outputs": [
    {
     "data": {
      "text/plain": [
       "3"
      ]
     },
     "execution_count": 8,
     "metadata": {},
     "output_type": "execute_result"
    }
   ],
   "source": [
    "myTuple.index(3.14)"
   ]
  },
  {
   "cell_type": "code",
   "execution_count": null,
   "id": "194f0641",
   "metadata": {},
   "outputs": [],
   "source": []
  }
 ],
 "metadata": {
  "kernelspec": {
   "display_name": "Python 3 (ipykernel)",
   "language": "python",
   "name": "python3"
  },
  "language_info": {
   "codemirror_mode": {
    "name": "ipython",
    "version": 3
   },
   "file_extension": ".py",
   "mimetype": "text/x-python",
   "name": "python",
   "nbconvert_exporter": "python",
   "pygments_lexer": "ipython3",
   "version": "3.10.9"
  }
 },
 "nbformat": 4,
 "nbformat_minor": 5
}
